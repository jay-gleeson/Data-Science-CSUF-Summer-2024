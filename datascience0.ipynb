{
 "cells": [
  {
   "cell_type": "markdown",
   "id": "b6750f25-e18f-482b-820d-a18fe4ed2da6",
   "metadata": {},
   "source": [
    "# Importing packages from the environment into the Notebook"
   ]
  },
  {
   "cell_type": "code",
   "execution_count": 1,
   "id": "f1af4d87-3c36-45c8-bc90-a43de8ae9f37",
   "metadata": {},
   "outputs": [],
   "source": [
    "import tensorflow as tf"
   ]
  },
  {
   "cell_type": "code",
   "execution_count": 2,
   "id": "732eb027-1ae0-4f39-9fe1-f3a9e216889b",
   "metadata": {},
   "outputs": [],
   "source": [
    "import numpy as np"
   ]
  },
  {
   "cell_type": "code",
   "execution_count": 3,
   "id": "f10fa7e9-04b8-4174-8a48-09a8465879dd",
   "metadata": {},
   "outputs": [],
   "source": [
    "import pandas as pd "
   ]
  },
  {
   "cell_type": "code",
   "execution_count": 4,
   "id": "d3ff9f6d-a043-477a-ac96-04169a12e429",
   "metadata": {},
   "outputs": [
    {
     "data": {
      "text/html": [
       "<div>\n",
       "<style scoped>\n",
       "    .dataframe tbody tr th:only-of-type {\n",
       "        vertical-align: middle;\n",
       "    }\n",
       "\n",
       "    .dataframe tbody tr th {\n",
       "        vertical-align: top;\n",
       "    }\n",
       "\n",
       "    .dataframe thead th {\n",
       "        text-align: right;\n",
       "    }\n",
       "</style>\n",
       "<table border=\"1\" class=\"dataframe\">\n",
       "  <thead>\n",
       "    <tr style=\"text-align: right;\">\n",
       "      <th></th>\n",
       "      <th>UID</th>\n",
       "      <th>BLOCKID</th>\n",
       "      <th>SUMLEVEL</th>\n",
       "      <th>COUNTYID</th>\n",
       "      <th>STATEID</th>\n",
       "      <th>state</th>\n",
       "      <th>state_ab</th>\n",
       "      <th>city</th>\n",
       "      <th>place</th>\n",
       "      <th>type</th>\n",
       "      <th>...</th>\n",
       "      <th>female_age_mean</th>\n",
       "      <th>female_age_median</th>\n",
       "      <th>female_age_stdev</th>\n",
       "      <th>female_age_sample_weight</th>\n",
       "      <th>female_age_samples</th>\n",
       "      <th>pct_own</th>\n",
       "      <th>married</th>\n",
       "      <th>married_snp</th>\n",
       "      <th>separated</th>\n",
       "      <th>divorced</th>\n",
       "    </tr>\n",
       "  </thead>\n",
       "  <tbody>\n",
       "    <tr>\n",
       "      <th>0</th>\n",
       "      <td>220336</td>\n",
       "      <td>NaN</td>\n",
       "      <td>140</td>\n",
       "      <td>16</td>\n",
       "      <td>2</td>\n",
       "      <td>Alaska</td>\n",
       "      <td>AK</td>\n",
       "      <td>Unalaska</td>\n",
       "      <td>Unalaska City</td>\n",
       "      <td>City</td>\n",
       "      <td>...</td>\n",
       "      <td>32.78177</td>\n",
       "      <td>31.91667</td>\n",
       "      <td>19.31875</td>\n",
       "      <td>440.46429</td>\n",
       "      <td>1894.0</td>\n",
       "      <td>0.25053</td>\n",
       "      <td>0.47388</td>\n",
       "      <td>0.30134</td>\n",
       "      <td>0.03443</td>\n",
       "      <td>0.09802</td>\n",
       "    </tr>\n",
       "    <tr>\n",
       "      <th>1</th>\n",
       "      <td>220342</td>\n",
       "      <td>NaN</td>\n",
       "      <td>140</td>\n",
       "      <td>20</td>\n",
       "      <td>2</td>\n",
       "      <td>Alaska</td>\n",
       "      <td>AK</td>\n",
       "      <td>Eagle River</td>\n",
       "      <td>Anchorage</td>\n",
       "      <td>City</td>\n",
       "      <td>...</td>\n",
       "      <td>38.97956</td>\n",
       "      <td>39.66667</td>\n",
       "      <td>20.05513</td>\n",
       "      <td>466.65478</td>\n",
       "      <td>1947.0</td>\n",
       "      <td>0.94989</td>\n",
       "      <td>0.52381</td>\n",
       "      <td>0.01777</td>\n",
       "      <td>0.00782</td>\n",
       "      <td>0.13575</td>\n",
       "    </tr>\n",
       "    <tr>\n",
       "      <th>2</th>\n",
       "      <td>220343</td>\n",
       "      <td>NaN</td>\n",
       "      <td>140</td>\n",
       "      <td>20</td>\n",
       "      <td>2</td>\n",
       "      <td>Alaska</td>\n",
       "      <td>AK</td>\n",
       "      <td>Jber</td>\n",
       "      <td>Anchorage</td>\n",
       "      <td>City</td>\n",
       "      <td>...</td>\n",
       "      <td>22.20427</td>\n",
       "      <td>23.16667</td>\n",
       "      <td>13.86575</td>\n",
       "      <td>887.67805</td>\n",
       "      <td>3570.0</td>\n",
       "      <td>0.00759</td>\n",
       "      <td>0.50459</td>\n",
       "      <td>0.06676</td>\n",
       "      <td>0.01000</td>\n",
       "      <td>0.01838</td>\n",
       "    </tr>\n",
       "    <tr>\n",
       "      <th>3</th>\n",
       "      <td>220345</td>\n",
       "      <td>NaN</td>\n",
       "      <td>140</td>\n",
       "      <td>20</td>\n",
       "      <td>2</td>\n",
       "      <td>Alaska</td>\n",
       "      <td>AK</td>\n",
       "      <td>Anchorage</td>\n",
       "      <td>Point Mackenzie</td>\n",
       "      <td>City</td>\n",
       "      <td>...</td>\n",
       "      <td>37.00750</td>\n",
       "      <td>34.00000</td>\n",
       "      <td>22.06347</td>\n",
       "      <td>281.49420</td>\n",
       "      <td>1049.0</td>\n",
       "      <td>0.20247</td>\n",
       "      <td>0.44428</td>\n",
       "      <td>0.05933</td>\n",
       "      <td>0.00000</td>\n",
       "      <td>0.21563</td>\n",
       "    </tr>\n",
       "    <tr>\n",
       "      <th>4</th>\n",
       "      <td>220347</td>\n",
       "      <td>NaN</td>\n",
       "      <td>140</td>\n",
       "      <td>20</td>\n",
       "      <td>2</td>\n",
       "      <td>Alaska</td>\n",
       "      <td>AK</td>\n",
       "      <td>Anchorage</td>\n",
       "      <td>Anchorage</td>\n",
       "      <td>City</td>\n",
       "      <td>...</td>\n",
       "      <td>34.96611</td>\n",
       "      <td>31.75000</td>\n",
       "      <td>20.49887</td>\n",
       "      <td>655.98066</td>\n",
       "      <td>2905.0</td>\n",
       "      <td>0.56936</td>\n",
       "      <td>0.51034</td>\n",
       "      <td>0.08315</td>\n",
       "      <td>0.06731</td>\n",
       "      <td>0.08711</td>\n",
       "    </tr>\n",
       "  </tbody>\n",
       "</table>\n",
       "<p>5 rows × 80 columns</p>\n",
       "</div>"
      ],
      "text/plain": [
       "      UID  BLOCKID  SUMLEVEL  COUNTYID  STATEID   state state_ab         city  \\\n",
       "0  220336      NaN       140        16        2  Alaska       AK     Unalaska   \n",
       "1  220342      NaN       140        20        2  Alaska       AK  Eagle River   \n",
       "2  220343      NaN       140        20        2  Alaska       AK         Jber   \n",
       "3  220345      NaN       140        20        2  Alaska       AK    Anchorage   \n",
       "4  220347      NaN       140        20        2  Alaska       AK    Anchorage   \n",
       "\n",
       "             place  type  ... female_age_mean  female_age_median  \\\n",
       "0    Unalaska City  City  ...        32.78177           31.91667   \n",
       "1        Anchorage  City  ...        38.97956           39.66667   \n",
       "2        Anchorage  City  ...        22.20427           23.16667   \n",
       "3  Point Mackenzie  City  ...        37.00750           34.00000   \n",
       "4        Anchorage  City  ...        34.96611           31.75000   \n",
       "\n",
       "   female_age_stdev  female_age_sample_weight  female_age_samples  pct_own  \\\n",
       "0          19.31875                 440.46429              1894.0  0.25053   \n",
       "1          20.05513                 466.65478              1947.0  0.94989   \n",
       "2          13.86575                 887.67805              3570.0  0.00759   \n",
       "3          22.06347                 281.49420              1049.0  0.20247   \n",
       "4          20.49887                 655.98066              2905.0  0.56936   \n",
       "\n",
       "   married  married_snp  separated  divorced  \n",
       "0  0.47388      0.30134    0.03443   0.09802  \n",
       "1  0.52381      0.01777    0.00782   0.13575  \n",
       "2  0.50459      0.06676    0.01000   0.01838  \n",
       "3  0.44428      0.05933    0.00000   0.21563  \n",
       "4  0.51034      0.08315    0.06731   0.08711  \n",
       "\n",
       "[5 rows x 80 columns]"
      ]
     },
     "execution_count": 4,
     "metadata": {},
     "output_type": "execute_result"
    }
   ],
   "source": [
    "df = pd.read_csv('real_estate_db.csv', encoding='latin-1') # imports the csv into the local notebook\n",
    "df.head()"
   ]
  },
  {
   "cell_type": "markdown",
   "id": "db32d50f",
   "metadata": {},
   "source": [
    "# Cleaning the data"
   ]
  },
  {
   "cell_type": "code",
   "execution_count": 5,
   "id": "f281f273-b16a-4cd1-9bda-eb39f89d44b1",
   "metadata": {},
   "outputs": [],
   "source": [
    "df.drop_duplicates(subset=None, inplace=True) # drops duplicate rows\n",
    "df.drop('BLOCKID', axis=1, inplace=True) # drops the nan-filled column"
   ]
  },
  {
   "cell_type": "code",
   "execution_count": null,
   "id": "d5f4ea78-b13f-40e4-879e-2899aa5cbeec",
   "metadata": {},
   "outputs": [],
   "source": [
    "df = df.replace(r'^\\s*$', np.nan, regex=True) # turns null characters into nan\n",
    "df.dropna(axis=0, inplace=True) # drops nan-filled columns"
   ]
  },
  {
   "cell_type": "code",
   "execution_count": null,
   "id": "57681a3b-902d-4599-97e9-f4c305b511d5",
   "metadata": {},
   "outputs": [],
   "source": [
    "df_sampled = df.sample(frac=0.01) # samples 0.1 of the db."
   ]
  },
  {
   "cell_type": "code",
   "execution_count": null,
   "id": "d9c258ce-6878-4897-9a28-59a3c6e7e921",
   "metadata": {
    "scrolled": true
   },
   "outputs": [],
   "source": [
    "df_sampled.head() # prints the first five indexes of the new sampled db."
   ]
  },
  {
   "cell_type": "markdown",
   "id": "defa295e",
   "metadata": {},
   "source": [
    "# Function to turn hs_degree into a binary"
   ]
  },
  {
   "cell_type": "code",
   "execution_count": null,
   "id": "c224c523-bdc8-416e-ae15-37fbf79bd834",
   "metadata": {
    "scrolled": true
   },
   "outputs": [],
   "source": [
    "# finds and prints the mean rate of hs_degree\n",
    "hs_degree_mean = df_sampled[['hs_degree']].mean()\n",
    "print(hs_degree_mean)"
   ]
  },
  {
   "cell_type": "code",
   "execution_count": null,
   "id": "ab227e3e",
   "metadata": {},
   "outputs": [],
   "source": [
    "# write function to check whether or not the average person is graduated\n",
    "def check_condition(value, threshold):\n",
    "    if value > threshold:\n",
    "        return 'Yes'\n",
    "    else:\n",
    "        return 'No'\n",
    "\n",
    "# uses function to check whether values are greater or lesser and writes to new column\n",
    "df_sampled['avg_person_graduated'] = df_sampled['hs_degree'].apply(lambda x: check_condition(x, 0.855329))\n",
    "\n",
    "# verifies the counts of yesses and nos within the newly generated column\n",
    "yes_count = df_sampled[df_sampled['avg_person_graduated'] == 'Yes'].shape[0]\n",
    "no_count = df_sampled[df_sampled['avg_person_graduated'] == 'No'].shape[0]\n",
    "\n",
    "# verifies whether function worked\n",
    "print(f\"\\nNumber of 'Yes' in avg_person_graduated: {yes_count}\")\n",
    "print(f\"Number of 'No' in avg_person_graduated: {no_count}\")\n",
    "df_sampled.head()"
   ]
  },
  {
   "cell_type": "markdown",
   "id": "782c3f95",
   "metadata": {},
   "source": [
    "# Neural Network"
   ]
  },
  {
   "cell_type": "code",
   "execution_count": null,
   "id": "292bb6a7",
   "metadata": {},
   "outputs": [],
   "source": [
    "from sklearn.model_selection import train_test_split"
   ]
  },
  {
   "cell_type": "code",
   "execution_count": null,
   "id": "ec34a04b",
   "metadata": {},
   "outputs": [],
   "source": [
    "# defines x and y values for training\n",
    "data_no_hs_degree = df_sampled[['debt', 'rent_mean', 'hc_mortgage_mean', 'home_equity_second_mortgage', 'second_mortgage', 'home_equity', 'family_mean']]\n",
    "X = data_no_hs_degree\n",
    "y = df_sampled['avg_person_graduated'].apply(lambda x: 1 if x=='Yes' else 0)"
   ]
  },
  {
   "cell_type": "code",
   "execution_count": null,
   "id": "c64d2589",
   "metadata": {},
   "outputs": [],
   "source": [
    "# splits data into x and y trains and preds\n",
    "X_train, X_test, y_train, y_test = train_test_split(X, y, test_size=.2)"
   ]
  },
  {
   "cell_type": "code",
   "execution_count": null,
   "id": "9defd835",
   "metadata": {},
   "outputs": [],
   "source": [
    "print(X_train) # prints X_train"
   ]
  },
  {
   "cell_type": "code",
   "execution_count": null,
   "id": "ccad44c7",
   "metadata": {},
   "outputs": [],
   "source": [
    "print(y_train) # prints y_train"
   ]
  },
  {
   "cell_type": "code",
   "execution_count": null,
   "id": "9a639420",
   "metadata": {},
   "outputs": [],
   "source": [
    "np.isnan(X_train).any() # checks X_train for any nan values"
   ]
  },
  {
   "cell_type": "code",
   "execution_count": null,
   "id": "96271df1",
   "metadata": {
    "scrolled": true
   },
   "outputs": [],
   "source": [
    "X_train.isnull().any() # checks X_train for any null values"
   ]
  },
  {
   "cell_type": "code",
   "execution_count": null,
   "id": "5cfa960a",
   "metadata": {},
   "outputs": [],
   "source": [
    "np.isnan(y_train).any() # checks y_train for any nan values"
   ]
  },
  {
   "cell_type": "code",
   "execution_count": null,
   "id": "e54e15cf",
   "metadata": {},
   "outputs": [],
   "source": [
    "y_train.isnull().any() # checks y_train for any null values"
   ]
  },
  {
   "cell_type": "code",
   "execution_count": null,
   "id": "6ab1bbb4",
   "metadata": {},
   "outputs": [],
   "source": [
    "# loads important models\n",
    "from tensorflow.keras.models import Sequential, load_model\n",
    "from tensorflow.keras.layers import Dense, BatchNormalization\n",
    "from sklearn.metrics import accuracy_score\n",
    "\n",
    "# defines model, including two layers\n",
    "model = Sequential()\n",
    "model.add(Dense(units=32, activation='ReLU', input_dim=len(X_train.columns)))\n",
    "model.add(Dense(units=64, activation='ReLU'))\n",
    "model.add(Dense(units=1, activation='sigmoid'))\n",
    "\n",
    "#imports optimizer and learning rate\n",
    "from tensorflow.keras.optimizers import Adam\n",
    "from tensorflow.keras.callbacks import LearningRateScheduler\n",
    "\n",
    "# optimizer\n",
    "initial_learning_rate = 0.001  # learning rate\n",
    "optimizer = Adam(learning_rate=initial_learning_rate)\n",
    "\n",
    "# learning rate scheduler\n",
    "def lr_scheduler(epoch):\n",
    "    return initial_learning_rate * 0.95 ** epoch\n",
    "\n",
    "# callbacks learning rate per epoch\n",
    "lr_callback = LearningRateScheduler(lr_scheduler)"
   ]
  },
  {
   "cell_type": "code",
   "execution_count": null,
   "id": "cf02e49d",
   "metadata": {},
   "outputs": [],
   "source": [
    "# defines model compiler\n",
    "model.compile(optimizer=optimizer, loss='binary_crossentropy', metrics=['accuracy'])"
   ]
  },
  {
   "cell_type": "code",
   "execution_count": null,
   "id": "b69fbbf8",
   "metadata": {},
   "outputs": [],
   "source": [
    "# fits model\n",
    "model.fit(X_train, y_train, batch_size = 1, epochs = 100, callbacks=[lr_callback])"
   ]
  },
  {
   "cell_type": "code",
   "execution_count": null,
   "id": "b26e92f8",
   "metadata": {},
   "outputs": [],
   "source": [
    "# performs a prediction\n",
    "y_hat = model.predict(X_test)\n",
    "\n",
    "# prints out the whole accuracy\n",
    "print(y_hat)\n",
    "\n",
    "# reevaluates to binary\n",
    "y_hat = [0 if val < 0.5 else 1 for val in y_hat]\n",
    "\n",
    "# prints out the accuracy again\n",
    "print(y_hat)\n",
    "\n",
    "# prints final accuracy\n",
    "print(accuracy_score(y_test, y_hat))"
   ]
  },
  {
   "cell_type": "code",
   "execution_count": null,
   "id": "bccfc3cf",
   "metadata": {},
   "outputs": [],
   "source": [
    "accuracy_score(y_test, y_hat)"
   ]
  },
  {
   "cell_type": "markdown",
   "id": "5b4e026a",
   "metadata": {},
   "source": [
    "# Heatmap"
   ]
  },
  {
   "cell_type": "code",
   "execution_count": null,
   "id": "5f09f6aa-073a-4c2d-99f4-a003ef42a70f",
   "metadata": {
    "scrolled": true
   },
   "outputs": [],
   "source": [
    "import matplotlib.pyplot as mp \n",
    "import seaborn as sb \n",
    "from PIL import _imaging\n",
    "from PIL import Image\n",
    "  \n",
    "data = df_sampled[['hs_degree', 'hs_degree_male', 'hs_degree_female', 'debt', 'rent_mean', 'hc_mortgage_mean', 'home_equity_second_mortgage', 'second_mortgage', 'home_equity', 'family_mean']]\n",
    " \n",
    "print(data.corr()) \n",
    "  \n",
    "dataplot=sb.heatmap(data.corr(), annot=True)\n",
    "  \n",
    "mp.show() "
   ]
  },
  {
   "cell_type": "markdown",
   "id": "c80e77d7",
   "metadata": {},
   "source": [
    "# Interactive US Map"
   ]
  },
  {
   "cell_type": "code",
   "execution_count": null,
   "id": "4a454853",
   "metadata": {
    "scrolled": true
   },
   "outputs": [],
   "source": [
    "import plotly.express as px\n",
    "avg_grad_rates = df.groupby('state_ab')['hs_degree'].mean().reset_index()\n",
    "\n",
    "fig = px.choropleth(avg_grad_rates,\n",
    "                    locations='state_ab',\n",
    "                    locationmode='USA-states',\n",
    "                    color='hs_degree',\n",
    "                    hover_name='state_ab',\n",
    "                    color_continuous_scale='blues',\n",
    "                    title='Average High School Graduation Rates by State')\n",
    "fig.update_layout(geo_scope='usa')\n",
    "fig.show()"
   ]
  },
  {
   "cell_type": "markdown",
   "id": "22802f7a",
   "metadata": {},
   "source": [
    "# Scatterplot of Degree Percentage versus Debt Percentage"
   ]
  },
  {
   "cell_type": "code",
   "execution_count": null,
   "id": "58f39617",
   "metadata": {
    "scrolled": true
   },
   "outputs": [],
   "source": [
    "import matplotlib.pyplot as plt\n",
    "plt.figure(figsize=(8, 6))\n",
    "plt.scatter(df_sampled['debt'], df_sampled['hs_degree'], color='b', alpha=0.5)\n",
    "plt.title('High School Degree Percentage vs Debt Percentage')\n",
    "plt.xlabel('Debt Percentage')\n",
    "plt.ylabel('High School Degree Percentage')\n",
    "plt.grid(True)\n",
    "plt.show()"
   ]
  },
  {
   "cell_type": "markdown",
   "id": "482fee8f",
   "metadata": {},
   "source": [
    "# Line Chart of Graduation Rate versus Debt Rate"
   ]
  },
  {
   "cell_type": "code",
   "execution_count": null,
   "id": "fc154c32",
   "metadata": {
    "scrolled": true
   },
   "outputs": [],
   "source": [
    "bins = np.linspace(0, 1, 11)  # Bins from 0 to 1 with 5 intervals\n",
    "labels = [f'{bins[i]:.2f}-{bins[i+1]:.2f}' for i in range(len(bins)-1)]\n",
    "\n",
    "df['debt_binned'] = pd.cut(df['debt'], bins=bins, labels=labels, right=False)\n",
    "\n",
    "avg_graduation_rate = df.groupby('debt_binned')['hs_degree'].mean()\n",
    "\n",
    "plt.figure(figsize=(10, 6))\n",
    "plt.plot(avg_graduation_rate.index, avg_graduation_rate.values, marker='o', linestyle='-', color='skyblue')\n",
    "\n",
    "plt.xlabel('Debt Percentage Range')\n",
    "plt.ylabel('Average Graduation Rate')\n",
    "plt.title('Average Graduation Rate by Debt Percentage Range')\n",
    "\n",
    "plt.xticks(rotation=45)\n",
    "plt.tight_layout()\n",
    "plt.show()"
   ]
  },
  {
   "cell_type": "markdown",
   "id": "d77bad05",
   "metadata": {},
   "source": [
    "# Random Forest Classifier"
   ]
  },
  {
   "cell_type": "code",
   "execution_count": null,
   "id": "b6e36b83",
   "metadata": {},
   "outputs": [],
   "source": [
    "import pandas as pd\n",
    "from sklearn.ensemble import RandomForestClassifier\n",
    "from sklearn.model_selection import train_test_split\n",
    "from sklearn.metrics import accuracy_score, classification_report, confusion_matrix\n",
    "import matplotlib.pyplot as plt"
   ]
  },
  {
   "cell_type": "code",
   "execution_count": null,
   "id": "fe2bd148",
   "metadata": {},
   "outputs": [],
   "source": [
    "# identify the x and y\n",
    "X = df_sampled[['debt', 'family_mean']]\n",
    "y = df_sampled['avg_person_graduated'].apply(lambda x: 1 if x=='Yes' else 0)"
   ]
  },
  {
   "cell_type": "code",
   "execution_count": null,
   "id": "1f619377",
   "metadata": {},
   "outputs": [],
   "source": [
    "# split data into training and test sets\n",
    "X_train, X_test, y_train, y_test = train_test_split(X, y, test_size=0.2, random_state=42)"
   ]
  },
  {
   "cell_type": "code",
   "execution_count": null,
   "id": "8bb6d6b1",
   "metadata": {},
   "outputs": [],
   "source": [
    "# creates the random forest classifier\n",
    "clf = RandomForestClassifier(random_state=42)"
   ]
  },
  {
   "cell_type": "code",
   "execution_count": null,
   "id": "4ba13cb8",
   "metadata": {},
   "outputs": [],
   "source": [
    "# trains the model\n",
    "clf.fit(X_train, y_train)"
   ]
  },
  {
   "cell_type": "code",
   "execution_count": null,
   "id": "d2312f80",
   "metadata": {},
   "outputs": [],
   "source": [
    "# predicts values based on previously split test set\n",
    "y_pred = clf.predict(X_test)"
   ]
  },
  {
   "cell_type": "code",
   "execution_count": null,
   "id": "97b46f3f",
   "metadata": {},
   "outputs": [],
   "source": [
    "# accuracy\n",
    "accuracy = accuracy_score(y_test, y_pred)\n",
    "print(f\"Accuracy: {accuracy:.2f}\")\n",
    "\n",
    "# confusion matrix\n",
    "cm = confusion_matrix(y_test, y_pred)\n",
    "print(\"Confusion Matrix:\")\n",
    "print(cm)\n",
    "\n",
    "# classification report\n",
    "report = classification_report(y_test, y_pred)\n",
    "print(\"Classification Report:\")\n",
    "print(report)"
   ]
  },
  {
   "cell_type": "code",
   "execution_count": null,
   "id": "686c99c7",
   "metadata": {
    "scrolled": true
   },
   "outputs": [],
   "source": [
    "# plots boundaries\n",
    "if X.shape[1] == 2:\n",
    "    plt.figure(figsize=(8, 6))\n",
    "    xx, yy = np.meshgrid(np.linspace(X.values[:, 0].min() - 0.1, X.values[:, 0].max() + 0.1, 100),\n",
    "                         np.linspace(X.values[:, 1].min() - 100, X.values[:, 1].max() + 100, 100))\n",
    "    Z = clf.predict(np.c_[xx.ravel(), yy.ravel()]).reshape(xx.shape)\n",
    "    plt.contourf(xx, yy, Z, alpha=0.3, cmap='viridis')\n",
    "    plt.scatter(X.values[:, 0], X.values[:, 1], c=y, cmap='viridis', edgecolors='k')\n",
    "    plt.xlabel('Debt')\n",
    "    plt.ylabel('Family Income Mean')\n",
    "    plt.title('Random Forest Classifier Decision Boundaries')\n",
    "    plt.colorbar()\n",
    "    plt.show()\n",
    "\n",
    "# plots features\n",
    "plt.figure(figsize=(8, 6))\n",
    "plt.bar(X.columns, clf.feature_importances_, color='skyblue')\n",
    "plt.xlabel('Features')\n",
    "plt.ylabel('Importance')\n",
    "plt.title('Feature Importance of Random Forest Classifier')\n",
    "plt.show()"
   ]
  },
  {
   "cell_type": "markdown",
   "id": "f5ba82bb",
   "metadata": {},
   "source": [
    "# Decision Tree Classifier"
   ]
  },
  {
   "cell_type": "code",
   "execution_count": null,
   "id": "d0caf532",
   "metadata": {},
   "outputs": [],
   "source": [
    "import pandas as pd\n",
    "from sklearn.model_selection import train_test_split\n",
    "from sklearn.tree import DecisionTreeClassifier, plot_tree\n",
    "from sklearn.metrics import accuracy_score"
   ]
  },
  {
   "cell_type": "code",
   "execution_count": null,
   "id": "9c80d51d",
   "metadata": {},
   "outputs": [],
   "source": [
    "# find x and y\n",
    "X = df_sampled[['debt', 'family_mean']]\n",
    "y = df_sampled['avg_person_graduated'].apply(lambda x: 1 if x=='Yes' else 0)"
   ]
  },
  {
   "cell_type": "code",
   "execution_count": null,
   "id": "9e7a366b",
   "metadata": {},
   "outputs": [],
   "source": [
    "# separates data into training and testing\n",
    "X_train, X_test, y_train, y_test = train_test_split(X, y, test_size=0.2, random_state=42)"
   ]
  },
  {
   "cell_type": "code",
   "execution_count": null,
   "id": "35debb8a",
   "metadata": {},
   "outputs": [],
   "source": [
    "# creates a decision tree classifier\n",
    "clf = DecisionTreeClassifier(random_state=42)"
   ]
  },
  {
   "cell_type": "code",
   "execution_count": null,
   "id": "cf51902d",
   "metadata": {},
   "outputs": [],
   "source": [
    "# trains the classifier\n",
    "clf.fit(X_train, y_train)"
   ]
  },
  {
   "cell_type": "code",
   "execution_count": null,
   "id": "761f5ec5",
   "metadata": {},
   "outputs": [],
   "source": [
    "# predicts x_test\n",
    "y_pred = clf.predict(X_test)"
   ]
  },
  {
   "cell_type": "code",
   "execution_count": null,
   "id": "573dacce",
   "metadata": {},
   "outputs": [],
   "source": [
    "# accuracy\n",
    "accuracy = accuracy_score(y_test, y_pred)\n",
    "print(f\"Accuracy: {accuracy:.2f}\")\n",
    "\n",
    "# confusion matrix\n",
    "cm = confusion_matrix(y_test, y_pred)\n",
    "print(\"Confusion Matrix:\")\n",
    "print(cm)\n",
    "\n",
    "# classification report\n",
    "report = classification_report(y_test, y_pred)\n",
    "print(\"Classification Report:\")\n",
    "print(report)"
   ]
  },
  {
   "cell_type": "code",
   "execution_count": null,
   "id": "2ed439fb",
   "metadata": {
    "scrolled": true
   },
   "outputs": [],
   "source": [
    "# plots the boundaries\n",
    "plt.figure(figsize=(8, 6))\n",
    "\n",
    "# plots points of each class\n",
    "plt.scatter(X[y == 0]['debt'], X[y == 0]['family_mean'], cmap='viridis', edgecolors='k', label='Not Graduated')\n",
    "plt.scatter(X[y == 1]['debt'], X[y == 1]['family_mean'], cmap='viridis', edgecolors='k', label='Graduated')\n",
    "\n",
    "# creates a meshgrid to plot the decision boundaries\n",
    "xx, yy = np.meshgrid(np.linspace(X['debt'].min() - 0.1, X['debt'].max() + 0.1, 100),\n",
    "                     np.linspace(X['family_mean'].min() - 100, X['family_mean'].max() + 100, 100))\n",
    "Z = clf.predict(np.c_[xx.ravel(), yy.ravel()]).reshape(xx.shape)\n",
    "\n",
    "# plots the contour filled regions\n",
    "plt.contourf(xx, yy, Z, alpha=0.3, cmap='viridis')\n",
    "\n",
    "# labels and title\n",
    "plt.xlabel('Debt')\n",
    "plt.ylabel('Family Income Mean')\n",
    "plt.title('Decision Tree Classifier Decision Boundaries')\n",
    "plt.colorbar()\n",
    "plt.legend()\n",
    "plt.show()\n",
    "# plots the decision tree\n",
    "plt.figure(figsize=(12, 8))\n",
    "plot_tree(clf, filled=True, feature_names=X.columns, class_names=['Not Graduated', 'Graduated'])\n",
    "plt.title('Decision Tree Classifier')\n",
    "plt.show()"
   ]
  },
  {
   "cell_type": "markdown",
   "id": "8a4e4917",
   "metadata": {},
   "source": [
    "# Pair Plot of Rent Mean versus Highschool Degree Rate"
   ]
  },
  {
   "cell_type": "code",
   "execution_count": null,
   "id": "93fd42da",
   "metadata": {},
   "outputs": [],
   "source": [
    "sb.pairplot(df_sampled[['rent_mean', 'hs_degree']], height=3)\n",
    "plt.suptitle('Pair Plot: Rent Mean vs HS Degree', y=1.02)\n",
    "plt.show()"
   ]
  },
  {
   "cell_type": "markdown",
   "id": "8f9bf57c",
   "metadata": {},
   "source": [
    "# Joint Plot of Mortgage Mean versus High School Degree Rate"
   ]
  },
  {
   "cell_type": "code",
   "execution_count": null,
   "id": "226ef3f2",
   "metadata": {
    "scrolled": true
   },
   "outputs": [],
   "source": [
    "sb.jointplot(x='hc_mortgage_mean', y='hs_degree', data=df_sampled, kind='hex', height=6)\n",
    "plt.suptitle('Joint Plot (Hexbin): Household Mortgage Mean vs HS Degree', y=1.02)\n",
    "plt.show()"
   ]
  },
  {
   "cell_type": "markdown",
   "id": "2d0b7691",
   "metadata": {},
   "source": [
    "# Scatter Plot of Family Income Mean versus High School Degree Rate"
   ]
  },
  {
   "cell_type": "code",
   "execution_count": null,
   "id": "594cdd63",
   "metadata": {},
   "outputs": [],
   "source": [
    "sb.lmplot(x='family_mean', y='hs_degree', data=df_sampled, height=6, aspect=1.5, scatter_kws={'alpha':0.5})\n",
    "plt.title('Scatter Plot with Regression Line: Family Income Mean vs HS Degree')\n",
    "plt.show()"
   ]
  },
  {
   "cell_type": "code",
   "execution_count": null,
   "id": "9dbddbc1-c816-4e58-a3c7-172799c4dd86",
   "metadata": {},
   "outputs": [],
   "source": []
  }
 ],
 "metadata": {
  "kernelspec": {
   "display_name": "Python 3 (ipykernel)",
   "language": "python",
   "name": "python3"
  },
  "language_info": {
   "codemirror_mode": {
    "name": "ipython",
    "version": 3
   },
   "file_extension": ".py",
   "mimetype": "text/x-python",
   "name": "python",
   "nbconvert_exporter": "python",
   "pygments_lexer": "ipython3",
   "version": "3.9.18"
  }
 },
 "nbformat": 4,
 "nbformat_minor": 5
}
