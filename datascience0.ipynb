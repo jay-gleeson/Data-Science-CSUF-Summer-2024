{
 "cells": [
  {
   "cell_type": "markdown",
   "id": "b6750f25-e18f-482b-820d-a18fe4ed2da6",
   "metadata": {},
   "source": [
    "# Creating New GitHub Repo with Jupyter Notebook"
   ]
  },
  {
   "cell_type": "code",
   "execution_count": 1,
   "id": "f1af4d87-3c36-45c8-bc90-a43de8ae9f37",
   "metadata": {},
   "outputs": [],
   "source": [
    "import tensorflow as tf"
   ]
  },
  {
   "cell_type": "code",
   "execution_count": 2,
   "id": "f10fa7e9-04b8-4174-8a48-09a8465879dd",
   "metadata": {},
   "outputs": [],
   "source": [
    "import pandas as pd\n",
    "from sklearn.model_selection import train_test_split"
   ]
  },
  {
   "cell_type": "code",
   "execution_count": 3,
   "id": "d3ff9f6d-a043-477a-ac96-04169a12e429",
   "metadata": {},
   "outputs": [],
   "source": [
    "df = pd.read_csv('real_estate_db.csv', encoding='latin-1')"
   ]
  },
  {
   "cell_type": "code",
   "execution_count": null,
   "id": "f8349838-a288-4978-82e8-1d0c251127e8",
   "metadata": {},
   "outputs": [],
   "source": []
  }
 ],
 "metadata": {
  "kernelspec": {
   "display_name": "Python 3 (ipykernel)",
   "language": "python",
   "name": "python3"
  },
  "language_info": {
   "codemirror_mode": {
    "name": "ipython",
    "version": 3
   },
   "file_extension": ".py",
   "mimetype": "text/x-python",
   "name": "python",
   "nbconvert_exporter": "python",
   "pygments_lexer": "ipython3",
   "version": "3.9.18"
  }
 },
 "nbformat": 4,
 "nbformat_minor": 5
}
