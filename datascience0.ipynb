{
 "cells": [
  {
   "cell_type": "markdown",
   "id": "b6750f25-e18f-482b-820d-a18fe4ed2da6",
   "metadata": {},
   "source": [
    "# Creating New GitHub Repo with Jupyter Notebook"
   ]
  },
  {
   "cell_type": "code",
   "execution_count": 1,
   "id": "f1af4d87-3c36-45c8-bc90-a43de8ae9f37",
   "metadata": {},
   "outputs": [],
   "source": [
    "import tensorflow as tf"
   ]
  },
  {
   "cell_type": "code",
   "execution_count": 2,
   "id": "732eb027-1ae0-4f39-9fe1-f3a9e216889b",
   "metadata": {},
   "outputs": [],
   "source": [
    "import numpy as np"
   ]
  },
  {
   "cell_type": "code",
   "execution_count": 3,
   "id": "f10fa7e9-04b8-4174-8a48-09a8465879dd",
   "metadata": {},
   "outputs": [],
   "source": [
    "import pandas as pd\n",
    "# code: \"from sklearn.model_selection import train_test_split\""
   ]
  },
  {
   "cell_type": "code",
   "execution_count": 4,
   "id": "d3ff9f6d-a043-477a-ac96-04169a12e429",
   "metadata": {},
   "outputs": [],
   "source": [
    "df = pd.read_csv('real_estate_db.csv', encoding='latin-1') # imports the CSV into the local notebook."
   ]
  },
  {
   "cell_type": "code",
   "execution_count": 5,
   "id": "f281f273-b16a-4cd1-9bda-eb39f89d44b1",
   "metadata": {},
   "outputs": [],
   "source": [
    "df.drop_duplicates(subset=None, inplace=True) # drops duplicates to a new file.\n",
    "df.to_csv('real_estate_db.csv', index=False) # replaces the file from the old one to the newly duplicate-removed file."
   ]
  },
  {
   "cell_type": "code",
   "execution_count": 6,
   "id": "d5f4ea78-b13f-40e4-879e-2899aa5cbeec",
   "metadata": {},
   "outputs": [],
   "source": [
    "df = df.replace(r'^\\s*$', np.nan, regex=True)\n",
    "df.to_csv('real_estate_db.csv', index=False) # replaces the file from the old one to the newly NaN-cell-filled file."
   ]
  },
  {
   "cell_type": "code",
   "execution_count": 7,
   "id": "57681a3b-902d-4599-97e9-f4c305b511d5",
   "metadata": {},
   "outputs": [],
   "source": [
    "df_sampled = df.sample(frac=0.1)"
   ]
  },
  {
   "cell_type": "code",
   "execution_count": 8,
   "id": "d9c258ce-6878-4897-9a28-59a3c6e7e921",
   "metadata": {},
   "outputs": [
    {
     "data": {
      "text/html": [
       "<div>\n",
       "<style scoped>\n",
       "    .dataframe tbody tr th:only-of-type {\n",
       "        vertical-align: middle;\n",
       "    }\n",
       "\n",
       "    .dataframe tbody tr th {\n",
       "        vertical-align: top;\n",
       "    }\n",
       "\n",
       "    .dataframe thead th {\n",
       "        text-align: right;\n",
       "    }\n",
       "</style>\n",
       "<table border=\"1\" class=\"dataframe\">\n",
       "  <thead>\n",
       "    <tr style=\"text-align: right;\">\n",
       "      <th></th>\n",
       "      <th>UID</th>\n",
       "      <th>BLOCKID</th>\n",
       "      <th>SUMLEVEL</th>\n",
       "      <th>COUNTYID</th>\n",
       "      <th>STATEID</th>\n",
       "      <th>state</th>\n",
       "      <th>state_ab</th>\n",
       "      <th>city</th>\n",
       "      <th>place</th>\n",
       "      <th>type</th>\n",
       "      <th>...</th>\n",
       "      <th>female_age_mean</th>\n",
       "      <th>female_age_median</th>\n",
       "      <th>female_age_stdev</th>\n",
       "      <th>female_age_sample_weight</th>\n",
       "      <th>female_age_samples</th>\n",
       "      <th>pct_own</th>\n",
       "      <th>married</th>\n",
       "      <th>married_snp</th>\n",
       "      <th>separated</th>\n",
       "      <th>divorced</th>\n",
       "    </tr>\n",
       "  </thead>\n",
       "  <tbody>\n",
       "    <tr>\n",
       "      <th>24416</th>\n",
       "      <td>267046</td>\n",
       "      <td>NaN</td>\n",
       "      <td>140</td>\n",
       "      <td>47</td>\n",
       "      <td>36</td>\n",
       "      <td>New York</td>\n",
       "      <td>NY</td>\n",
       "      <td>Brooklyn</td>\n",
       "      <td>New York City</td>\n",
       "      <td>City</td>\n",
       "      <td>...</td>\n",
       "      <td>38.37934</td>\n",
       "      <td>37.33333</td>\n",
       "      <td>22.21398</td>\n",
       "      <td>534.69953</td>\n",
       "      <td>2321.0</td>\n",
       "      <td>0.43423</td>\n",
       "      <td>0.57879</td>\n",
       "      <td>0.06131</td>\n",
       "      <td>0.03311</td>\n",
       "      <td>0.03556</td>\n",
       "    </tr>\n",
       "    <tr>\n",
       "      <th>32977</th>\n",
       "      <td>283434</td>\n",
       "      <td>NaN</td>\n",
       "      <td>140</td>\n",
       "      <td>37</td>\n",
       "      <td>48</td>\n",
       "      <td>Texas</td>\n",
       "      <td>TX</td>\n",
       "      <td>Texarkana</td>\n",
       "      <td>Texarkana City</td>\n",
       "      <td>Town</td>\n",
       "      <td>...</td>\n",
       "      <td>40.29735</td>\n",
       "      <td>41.25000</td>\n",
       "      <td>25.04808</td>\n",
       "      <td>596.79908</td>\n",
       "      <td>2633.0</td>\n",
       "      <td>0.47574</td>\n",
       "      <td>0.42646</td>\n",
       "      <td>0.11016</td>\n",
       "      <td>0.08177</td>\n",
       "      <td>0.16809</td>\n",
       "    </tr>\n",
       "    <tr>\n",
       "      <th>33822</th>\n",
       "      <td>285081</td>\n",
       "      <td>NaN</td>\n",
       "      <td>140</td>\n",
       "      <td>181</td>\n",
       "      <td>48</td>\n",
       "      <td>Texas</td>\n",
       "      <td>TX</td>\n",
       "      <td>Denison</td>\n",
       "      <td>Denison City</td>\n",
       "      <td>Town</td>\n",
       "      <td>...</td>\n",
       "      <td>45.46439</td>\n",
       "      <td>45.75000</td>\n",
       "      <td>25.56286</td>\n",
       "      <td>394.97458</td>\n",
       "      <td>1786.0</td>\n",
       "      <td>0.41349</td>\n",
       "      <td>0.42686</td>\n",
       "      <td>0.06315</td>\n",
       "      <td>0.02158</td>\n",
       "      <td>0.14309</td>\n",
       "    </tr>\n",
       "    <tr>\n",
       "      <th>5873</th>\n",
       "      <td>231687</td>\n",
       "      <td>NaN</td>\n",
       "      <td>140</td>\n",
       "      <td>107</td>\n",
       "      <td>6</td>\n",
       "      <td>California</td>\n",
       "      <td>CA</td>\n",
       "      <td>Tulare</td>\n",
       "      <td>Tulare City</td>\n",
       "      <td>City</td>\n",
       "      <td>...</td>\n",
       "      <td>37.30219</td>\n",
       "      <td>39.33333</td>\n",
       "      <td>22.60756</td>\n",
       "      <td>651.12594</td>\n",
       "      <td>2823.0</td>\n",
       "      <td>0.69399</td>\n",
       "      <td>0.53591</td>\n",
       "      <td>0.06592</td>\n",
       "      <td>0.03591</td>\n",
       "      <td>0.04394</td>\n",
       "    </tr>\n",
       "    <tr>\n",
       "      <th>37518</th>\n",
       "      <td>292106</td>\n",
       "      <td>NaN</td>\n",
       "      <td>140</td>\n",
       "      <td>63</td>\n",
       "      <td>53</td>\n",
       "      <td>Washington</td>\n",
       "      <td>WA</td>\n",
       "      <td>Spokane</td>\n",
       "      <td>Millwood City</td>\n",
       "      <td>Town</td>\n",
       "      <td>...</td>\n",
       "      <td>41.23104</td>\n",
       "      <td>43.00000</td>\n",
       "      <td>23.00238</td>\n",
       "      <td>952.04886</td>\n",
       "      <td>3740.0</td>\n",
       "      <td>0.71646</td>\n",
       "      <td>0.60791</td>\n",
       "      <td>0.00064</td>\n",
       "      <td>0.00000</td>\n",
       "      <td>0.07746</td>\n",
       "    </tr>\n",
       "  </tbody>\n",
       "</table>\n",
       "<p>5 rows × 80 columns</p>\n",
       "</div>"
      ],
      "text/plain": [
       "          UID  BLOCKID  SUMLEVEL  COUNTYID  STATEID       state state_ab  \\\n",
       "24416  267046      NaN       140        47       36    New York       NY   \n",
       "32977  283434      NaN       140        37       48       Texas       TX   \n",
       "33822  285081      NaN       140       181       48       Texas       TX   \n",
       "5873   231687      NaN       140       107        6  California       CA   \n",
       "37518  292106      NaN       140        63       53  Washington       WA   \n",
       "\n",
       "            city           place  type  ... female_age_mean  \\\n",
       "24416   Brooklyn   New York City  City  ...        38.37934   \n",
       "32977  Texarkana  Texarkana City  Town  ...        40.29735   \n",
       "33822    Denison    Denison City  Town  ...        45.46439   \n",
       "5873      Tulare     Tulare City  City  ...        37.30219   \n",
       "37518    Spokane   Millwood City  Town  ...        41.23104   \n",
       "\n",
       "       female_age_median  female_age_stdev  female_age_sample_weight  \\\n",
       "24416           37.33333          22.21398                 534.69953   \n",
       "32977           41.25000          25.04808                 596.79908   \n",
       "33822           45.75000          25.56286                 394.97458   \n",
       "5873            39.33333          22.60756                 651.12594   \n",
       "37518           43.00000          23.00238                 952.04886   \n",
       "\n",
       "       female_age_samples  pct_own  married  married_snp  separated  divorced  \n",
       "24416              2321.0  0.43423  0.57879      0.06131    0.03311   0.03556  \n",
       "32977              2633.0  0.47574  0.42646      0.11016    0.08177   0.16809  \n",
       "33822              1786.0  0.41349  0.42686      0.06315    0.02158   0.14309  \n",
       "5873               2823.0  0.69399  0.53591      0.06592    0.03591   0.04394  \n",
       "37518              3740.0  0.71646  0.60791      0.00064    0.00000   0.07746  \n",
       "\n",
       "[5 rows x 80 columns]"
      ]
     },
     "execution_count": 8,
     "metadata": {},
     "output_type": "execute_result"
    }
   ],
   "source": [
    "df_sampled.head()"
   ]
  },
  {
   "cell_type": "code",
   "execution_count": 23,
   "id": "59a3eded",
   "metadata": {},
   "outputs": [
    {
     "name": "stdout",
     "output_type": "stream",
     "text": [
      "          debt  hs_degree\n",
      "24416  0.69636    0.94942\n",
      "32977  0.53540    0.79382\n",
      "33822  0.41744    0.84406\n",
      "5873   0.68182    0.75597\n",
      "37518  0.71578    0.98670\n",
      "...        ...        ...\n",
      "23532  0.50639    0.72393\n",
      "22074  0.46370    0.83179\n",
      "4338   0.61353    0.79396\n",
      "6949   0.66401    0.93514\n",
      "12303  0.45071    0.84792\n",
      "\n",
      "[3872 rows x 2 columns]\n"
     ]
    }
   ],
   "source": [
    "print(df_sampled[['debt', 'hs_degree']])"
   ]
  },
  {
   "cell_type": "code",
   "execution_count": 27,
   "id": "5f09f6aa-073a-4c2d-99f4-a003ef42a70f",
   "metadata": {},
   "outputs": [
    {
     "name": "stdout",
     "output_type": "stream",
     "text": [
      "                  hs_degree  hs_degree_male  hs_degree_female      debt  \\\n",
      "hs_degree          1.000000        0.969620          0.967200  0.270116   \n",
      "hs_degree_male     0.969620        1.000000          0.878910  0.280923   \n",
      "hs_degree_female   0.967200        0.878910          1.000000  0.245000   \n",
      "debt               0.270116        0.280923          0.245000  1.000000   \n",
      "rent_mean          0.377043        0.390350          0.339222  0.436830   \n",
      "\n",
      "                  rent_mean  \n",
      "hs_degree          0.377043  \n",
      "hs_degree_male     0.390350  \n",
      "hs_degree_female   0.339222  \n",
      "debt               0.436830  \n",
      "rent_mean          1.000000  \n"
     ]
    },
    {
     "data": {
      "image/png": "[encoded data removed]",
      "text/plain": [
       "<Figure size 640x480 with 2 Axes>"
      ]
     },
     "metadata": {},
     "output_type": "display_data"
    }
   ],
   "source": [
    "import matplotlib.pyplot as mp \n",
    "import seaborn as sb \n",
    "  \n",
    "# import file with data \n",
    "data = df_sampled[['hs_degree', 'hs_degree_male', 'hs_degree_female', 'debt', 'rent_mean', ]]\n",
    "# prints data that will be plotted \n",
    "# columns shown here are selected by corr() since \n",
    "# they are ideal for the plot \n",
    "print(data.corr()) \n",
    "  \n",
    "# plotting correlation heatmap \n",
    "dataplot=sb.heatmap(data.corr(), annot=True)\n",
    "  \n",
    "# displaying heatmap \n",
    "mp.show() "
   ]
  },
  {
   "cell_type": "code",
   "execution_count": null,
   "id": "b413b8ef",
   "metadata": {},
   "outputs": [],
   "source": []
  },
  {
   "cell_type": "code",
   "execution_count": null,
   "id": "50d2678c",
   "metadata": {},
   "outputs": [],
   "source": []
  }
 ],
 "metadata": {
  "kernelspec": {
   "display_name": "Python 3 (ipykernel)",
   "language": "python",
   "name": "python3"
  },
  "language_info": {
   "codemirror_mode": {
    "name": "ipython",
    "version": 3
   },
   "file_extension": ".py",
   "mimetype": "text/x-python",
   "name": "python",
   "nbconvert_exporter": "python",
   "pygments_lexer": "ipython3",
   "version": "3.7.16"
  }
 },
 "nbformat": 4,
 "nbformat_minor": 5
}
