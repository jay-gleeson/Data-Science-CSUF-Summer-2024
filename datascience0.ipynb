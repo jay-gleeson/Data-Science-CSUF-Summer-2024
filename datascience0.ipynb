{
 "cells": [
  {
   "cell_type": "markdown",
   "id": "b6750f25-e18f-482b-820d-a18fe4ed2da6",
   "metadata": {},
   "source": [
    "# Creating New GitHub Repo with Jupyter Notebook"
   ]
  },
  {
   "cell_type": "code",
   "execution_count": 1,
   "id": "f1af4d87-3c36-45c8-bc90-a43de8ae9f37",
   "metadata": {},
   "outputs": [],
   "source": [
    "import tensorflow as tf"
   ]
  },
  {
   "cell_type": "code",
   "execution_count": 2,
   "id": "732eb027-1ae0-4f39-9fe1-f3a9e216889b",
   "metadata": {},
   "outputs": [],
   "source": [
    "import numpy as np"
   ]
  },
  {
   "cell_type": "code",
   "execution_count": 3,
   "id": "f10fa7e9-04b8-4174-8a48-09a8465879dd",
   "metadata": {},
   "outputs": [],
   "source": [
    "import pandas as pd "
   ]
  },
  {
   "cell_type": "code",
   "execution_count": 4,
   "id": "d3ff9f6d-a043-477a-ac96-04169a12e429",
   "metadata": {},
   "outputs": [
    {
     "data": {
      "text/html": [
       "<div>\n",
       "<style scoped>\n",
       "    .dataframe tbody tr th:only-of-type {\n",
       "        vertical-align: middle;\n",
       "    }\n",
       "\n",
       "    .dataframe tbody tr th {\n",
       "        vertical-align: top;\n",
       "    }\n",
       "\n",
       "    .dataframe thead th {\n",
       "        text-align: right;\n",
       "    }\n",
       "</style>\n",
       "<table border=\"1\" class=\"dataframe\">\n",
       "  <thead>\n",
       "    <tr style=\"text-align: right;\">\n",
       "      <th></th>\n",
       "      <th>UID</th>\n",
       "      <th>BLOCKID</th>\n",
       "      <th>SUMLEVEL</th>\n",
       "      <th>COUNTYID</th>\n",
       "      <th>STATEID</th>\n",
       "      <th>state</th>\n",
       "      <th>state_ab</th>\n",
       "      <th>city</th>\n",
       "      <th>place</th>\n",
       "      <th>type</th>\n",
       "      <th>...</th>\n",
       "      <th>female_age_mean</th>\n",
       "      <th>female_age_median</th>\n",
       "      <th>female_age_stdev</th>\n",
       "      <th>female_age_sample_weight</th>\n",
       "      <th>female_age_samples</th>\n",
       "      <th>pct_own</th>\n",
       "      <th>married</th>\n",
       "      <th>married_snp</th>\n",
       "      <th>separated</th>\n",
       "      <th>divorced</th>\n",
       "    </tr>\n",
       "  </thead>\n",
       "  <tbody>\n",
       "    <tr>\n",
       "      <th>0</th>\n",
       "      <td>220336</td>\n",
       "      <td>NaN</td>\n",
       "      <td>140</td>\n",
       "      <td>16</td>\n",
       "      <td>2</td>\n",
       "      <td>Alaska</td>\n",
       "      <td>AK</td>\n",
       "      <td>Unalaska</td>\n",
       "      <td>Unalaska City</td>\n",
       "      <td>City</td>\n",
       "      <td>...</td>\n",
       "      <td>32.78177</td>\n",
       "      <td>31.91667</td>\n",
       "      <td>19.31875</td>\n",
       "      <td>440.46429</td>\n",
       "      <td>1894.0</td>\n",
       "      <td>0.25053</td>\n",
       "      <td>0.47388</td>\n",
       "      <td>0.30134</td>\n",
       "      <td>0.03443</td>\n",
       "      <td>0.09802</td>\n",
       "    </tr>\n",
       "    <tr>\n",
       "      <th>1</th>\n",
       "      <td>220342</td>\n",
       "      <td>NaN</td>\n",
       "      <td>140</td>\n",
       "      <td>20</td>\n",
       "      <td>2</td>\n",
       "      <td>Alaska</td>\n",
       "      <td>AK</td>\n",
       "      <td>Eagle River</td>\n",
       "      <td>Anchorage</td>\n",
       "      <td>City</td>\n",
       "      <td>...</td>\n",
       "      <td>38.97956</td>\n",
       "      <td>39.66667</td>\n",
       "      <td>20.05513</td>\n",
       "      <td>466.65478</td>\n",
       "      <td>1947.0</td>\n",
       "      <td>0.94989</td>\n",
       "      <td>0.52381</td>\n",
       "      <td>0.01777</td>\n",
       "      <td>0.00782</td>\n",
       "      <td>0.13575</td>\n",
       "    </tr>\n",
       "    <tr>\n",
       "      <th>2</th>\n",
       "      <td>220343</td>\n",
       "      <td>NaN</td>\n",
       "      <td>140</td>\n",
       "      <td>20</td>\n",
       "      <td>2</td>\n",
       "      <td>Alaska</td>\n",
       "      <td>AK</td>\n",
       "      <td>Jber</td>\n",
       "      <td>Anchorage</td>\n",
       "      <td>City</td>\n",
       "      <td>...</td>\n",
       "      <td>22.20427</td>\n",
       "      <td>23.16667</td>\n",
       "      <td>13.86575</td>\n",
       "      <td>887.67805</td>\n",
       "      <td>3570.0</td>\n",
       "      <td>0.00759</td>\n",
       "      <td>0.50459</td>\n",
       "      <td>0.06676</td>\n",
       "      <td>0.01000</td>\n",
       "      <td>0.01838</td>\n",
       "    </tr>\n",
       "    <tr>\n",
       "      <th>3</th>\n",
       "      <td>220345</td>\n",
       "      <td>NaN</td>\n",
       "      <td>140</td>\n",
       "      <td>20</td>\n",
       "      <td>2</td>\n",
       "      <td>Alaska</td>\n",
       "      <td>AK</td>\n",
       "      <td>Anchorage</td>\n",
       "      <td>Point Mackenzie</td>\n",
       "      <td>City</td>\n",
       "      <td>...</td>\n",
       "      <td>37.00750</td>\n",
       "      <td>34.00000</td>\n",
       "      <td>22.06347</td>\n",
       "      <td>281.49420</td>\n",
       "      <td>1049.0</td>\n",
       "      <td>0.20247</td>\n",
       "      <td>0.44428</td>\n",
       "      <td>0.05933</td>\n",
       "      <td>0.00000</td>\n",
       "      <td>0.21563</td>\n",
       "    </tr>\n",
       "    <tr>\n",
       "      <th>4</th>\n",
       "      <td>220347</td>\n",
       "      <td>NaN</td>\n",
       "      <td>140</td>\n",
       "      <td>20</td>\n",
       "      <td>2</td>\n",
       "      <td>Alaska</td>\n",
       "      <td>AK</td>\n",
       "      <td>Anchorage</td>\n",
       "      <td>Anchorage</td>\n",
       "      <td>City</td>\n",
       "      <td>...</td>\n",
       "      <td>34.96611</td>\n",
       "      <td>31.75000</td>\n",
       "      <td>20.49887</td>\n",
       "      <td>655.98066</td>\n",
       "      <td>2905.0</td>\n",
       "      <td>0.56936</td>\n",
       "      <td>0.51034</td>\n",
       "      <td>0.08315</td>\n",
       "      <td>0.06731</td>\n",
       "      <td>0.08711</td>\n",
       "    </tr>\n",
       "  </tbody>\n",
       "</table>\n",
       "<p>5 rows × 80 columns</p>\n",
       "</div>"
      ],
      "text/plain": [
       "      UID  BLOCKID  SUMLEVEL  COUNTYID  STATEID   state state_ab         city  \\\n",
       "0  220336      NaN       140        16        2  Alaska       AK     Unalaska   \n",
       "1  220342      NaN       140        20        2  Alaska       AK  Eagle River   \n",
       "2  220343      NaN       140        20        2  Alaska       AK         Jber   \n",
       "3  220345      NaN       140        20        2  Alaska       AK    Anchorage   \n",
       "4  220347      NaN       140        20        2  Alaska       AK    Anchorage   \n",
       "\n",
       "             place  type  ... female_age_mean  female_age_median  \\\n",
       "0    Unalaska City  City  ...        32.78177           31.91667   \n",
       "1        Anchorage  City  ...        38.97956           39.66667   \n",
       "2        Anchorage  City  ...        22.20427           23.16667   \n",
       "3  Point Mackenzie  City  ...        37.00750           34.00000   \n",
       "4        Anchorage  City  ...        34.96611           31.75000   \n",
       "\n",
       "   female_age_stdev  female_age_sample_weight  female_age_samples  pct_own  \\\n",
       "0          19.31875                 440.46429              1894.0  0.25053   \n",
       "1          20.05513                 466.65478              1947.0  0.94989   \n",
       "2          13.86575                 887.67805              3570.0  0.00759   \n",
       "3          22.06347                 281.49420              1049.0  0.20247   \n",
       "4          20.49887                 655.98066              2905.0  0.56936   \n",
       "\n",
       "   married  married_snp  separated  divorced  \n",
       "0  0.47388      0.30134    0.03443   0.09802  \n",
       "1  0.52381      0.01777    0.00782   0.13575  \n",
       "2  0.50459      0.06676    0.01000   0.01838  \n",
       "3  0.44428      0.05933    0.00000   0.21563  \n",
       "4  0.51034      0.08315    0.06731   0.08711  \n",
       "\n",
       "[5 rows x 80 columns]"
      ]
     },
     "execution_count": 4,
     "metadata": {},
     "output_type": "execute_result"
    }
   ],
   "source": [
    "df = pd.read_csv('real_estate_db.csv', encoding='latin-1') # imports the CSV into the local notebook\n",
    "df.head()"
   ]
  },
  {
   "cell_type": "code",
   "execution_count": 5,
   "id": "f281f273-b16a-4cd1-9bda-eb39f89d44b1",
   "metadata": {},
   "outputs": [],
   "source": [
    "df.drop_duplicates(subset=None, inplace=True) # drops duplicate rows\n",
    "df.drop('BLOCKID', axis=1, inplace=True) # drops the nan-filled column"
   ]
  },
  {
   "cell_type": "code",
   "execution_count": 6,
   "id": "d5f4ea78-b13f-40e4-879e-2899aa5cbeec",
   "metadata": {},
   "outputs": [],
   "source": [
    "df = df.replace(r'^\\s*$', np.nan, regex=True) # turns null characters into nan\n",
    "df.dropna(axis=0, inplace=True) # drops nan-filled columns"
   ]
  },
  {
   "cell_type": "code",
   "execution_count": 7,
   "id": "57681a3b-902d-4599-97e9-f4c305b511d5",
   "metadata": {},
   "outputs": [],
   "source": [
    "df_sampled = df.sample(frac=0.01) # samples 0.1 of the db."
   ]
  },
  {
   "cell_type": "code",
   "execution_count": 8,
   "id": "d9c258ce-6878-4897-9a28-59a3c6e7e921",
   "metadata": {},
   "outputs": [
    {
     "data": {
      "text/html": [
       "<div>\n",
       "<style scoped>\n",
       "    .dataframe tbody tr th:only-of-type {\n",
       "        vertical-align: middle;\n",
       "    }\n",
       "\n",
       "    .dataframe tbody tr th {\n",
       "        vertical-align: top;\n",
       "    }\n",
       "\n",
       "    .dataframe thead th {\n",
       "        text-align: right;\n",
       "    }\n",
       "</style>\n",
       "<table border=\"1\" class=\"dataframe\">\n",
       "  <thead>\n",
       "    <tr style=\"text-align: right;\">\n",
       "      <th></th>\n",
       "      <th>UID</th>\n",
       "      <th>SUMLEVEL</th>\n",
       "      <th>COUNTYID</th>\n",
       "      <th>STATEID</th>\n",
       "      <th>state</th>\n",
       "      <th>state_ab</th>\n",
       "      <th>city</th>\n",
       "      <th>place</th>\n",
       "      <th>type</th>\n",
       "      <th>primary</th>\n",
       "      <th>...</th>\n",
       "      <th>female_age_mean</th>\n",
       "      <th>female_age_median</th>\n",
       "      <th>female_age_stdev</th>\n",
       "      <th>female_age_sample_weight</th>\n",
       "      <th>female_age_samples</th>\n",
       "      <th>pct_own</th>\n",
       "      <th>married</th>\n",
       "      <th>married_snp</th>\n",
       "      <th>separated</th>\n",
       "      <th>divorced</th>\n",
       "    </tr>\n",
       "  </thead>\n",
       "  <tbody>\n",
       "    <tr>\n",
       "      <th>28042</th>\n",
       "      <td>274106</td>\n",
       "      <td>140</td>\n",
       "      <td>71</td>\n",
       "      <td>40</td>\n",
       "      <td>Oklahoma</td>\n",
       "      <td>OK</td>\n",
       "      <td>Ponca City</td>\n",
       "      <td>Ponca City City</td>\n",
       "      <td>CDP</td>\n",
       "      <td>tract</td>\n",
       "      <td>...</td>\n",
       "      <td>35.72210</td>\n",
       "      <td>31.50000</td>\n",
       "      <td>23.54095</td>\n",
       "      <td>306.30117</td>\n",
       "      <td>1167.0</td>\n",
       "      <td>0.54024</td>\n",
       "      <td>0.39565</td>\n",
       "      <td>0.06087</td>\n",
       "      <td>0.01304</td>\n",
       "      <td>0.20109</td>\n",
       "    </tr>\n",
       "    <tr>\n",
       "      <th>28041</th>\n",
       "      <td>274105</td>\n",
       "      <td>140</td>\n",
       "      <td>71</td>\n",
       "      <td>40</td>\n",
       "      <td>Oklahoma</td>\n",
       "      <td>OK</td>\n",
       "      <td>Ponca City</td>\n",
       "      <td>Ponca City City</td>\n",
       "      <td>CDP</td>\n",
       "      <td>tract</td>\n",
       "      <td>...</td>\n",
       "      <td>47.61985</td>\n",
       "      <td>50.83333</td>\n",
       "      <td>25.64405</td>\n",
       "      <td>528.37495</td>\n",
       "      <td>2185.0</td>\n",
       "      <td>0.88491</td>\n",
       "      <td>0.61270</td>\n",
       "      <td>0.02097</td>\n",
       "      <td>0.00000</td>\n",
       "      <td>0.09027</td>\n",
       "    </tr>\n",
       "    <tr>\n",
       "      <th>18952</th>\n",
       "      <td>256583</td>\n",
       "      <td>140</td>\n",
       "      <td>79</td>\n",
       "      <td>27</td>\n",
       "      <td>Minnesota</td>\n",
       "      <td>MN</td>\n",
       "      <td>Le Sueur</td>\n",
       "      <td>Le Sueur City</td>\n",
       "      <td>City</td>\n",
       "      <td>tract</td>\n",
       "      <td>...</td>\n",
       "      <td>42.61636</td>\n",
       "      <td>42.66667</td>\n",
       "      <td>24.41565</td>\n",
       "      <td>547.77694</td>\n",
       "      <td>2306.0</td>\n",
       "      <td>0.81243</td>\n",
       "      <td>0.53216</td>\n",
       "      <td>0.03415</td>\n",
       "      <td>0.00626</td>\n",
       "      <td>0.08480</td>\n",
       "    </tr>\n",
       "    <tr>\n",
       "      <th>29826</th>\n",
       "      <td>277462</td>\n",
       "      <td>140</td>\n",
       "      <td>75</td>\n",
       "      <td>42</td>\n",
       "      <td>Pennsylvania</td>\n",
       "      <td>PA</td>\n",
       "      <td>Richland</td>\n",
       "      <td>Newmanstown</td>\n",
       "      <td>Borough</td>\n",
       "      <td>tract</td>\n",
       "      <td>...</td>\n",
       "      <td>40.76860</td>\n",
       "      <td>40.00000</td>\n",
       "      <td>23.58824</td>\n",
       "      <td>650.46585</td>\n",
       "      <td>2750.0</td>\n",
       "      <td>0.75569</td>\n",
       "      <td>0.50917</td>\n",
       "      <td>0.01659</td>\n",
       "      <td>0.01092</td>\n",
       "      <td>0.10611</td>\n",
       "    </tr>\n",
       "    <tr>\n",
       "      <th>8778</th>\n",
       "      <td>237145</td>\n",
       "      <td>140</td>\n",
       "      <td>95</td>\n",
       "      <td>12</td>\n",
       "      <td>Florida</td>\n",
       "      <td>FL</td>\n",
       "      <td>Orlando</td>\n",
       "      <td>Orlovista</td>\n",
       "      <td>City</td>\n",
       "      <td>tract</td>\n",
       "      <td>...</td>\n",
       "      <td>31.26365</td>\n",
       "      <td>29.08333</td>\n",
       "      <td>15.33628</td>\n",
       "      <td>265.84915</td>\n",
       "      <td>1049.0</td>\n",
       "      <td>0.06709</td>\n",
       "      <td>0.33670</td>\n",
       "      <td>0.02648</td>\n",
       "      <td>0.00000</td>\n",
       "      <td>0.08827</td>\n",
       "    </tr>\n",
       "  </tbody>\n",
       "</table>\n",
       "<p>5 rows × 79 columns</p>\n",
       "</div>"
      ],
      "text/plain": [
       "          UID  SUMLEVEL  COUNTYID  STATEID         state state_ab        city  \\\n",
       "28042  274106       140        71       40      Oklahoma       OK  Ponca City   \n",
       "28041  274105       140        71       40      Oklahoma       OK  Ponca City   \n",
       "18952  256583       140        79       27     Minnesota       MN    Le Sueur   \n",
       "29826  277462       140        75       42  Pennsylvania       PA    Richland   \n",
       "8778   237145       140        95       12       Florida       FL     Orlando   \n",
       "\n",
       "                 place     type primary  ...  female_age_mean  \\\n",
       "28042  Ponca City City      CDP   tract  ...         35.72210   \n",
       "28041  Ponca City City      CDP   tract  ...         47.61985   \n",
       "18952    Le Sueur City     City   tract  ...         42.61636   \n",
       "29826      Newmanstown  Borough   tract  ...         40.76860   \n",
       "8778         Orlovista     City   tract  ...         31.26365   \n",
       "\n",
       "       female_age_median  female_age_stdev  female_age_sample_weight  \\\n",
       "28042           31.50000          23.54095                 306.30117   \n",
       "28041           50.83333          25.64405                 528.37495   \n",
       "18952           42.66667          24.41565                 547.77694   \n",
       "29826           40.00000          23.58824                 650.46585   \n",
       "8778            29.08333          15.33628                 265.84915   \n",
       "\n",
       "       female_age_samples  pct_own  married  married_snp  separated  divorced  \n",
       "28042              1167.0  0.54024  0.39565      0.06087    0.01304   0.20109  \n",
       "28041              2185.0  0.88491  0.61270      0.02097    0.00000   0.09027  \n",
       "18952              2306.0  0.81243  0.53216      0.03415    0.00626   0.08480  \n",
       "29826              2750.0  0.75569  0.50917      0.01659    0.01092   0.10611  \n",
       "8778               1049.0  0.06709  0.33670      0.02648    0.00000   0.08827  \n",
       "\n",
       "[5 rows x 79 columns]"
      ]
     },
     "execution_count": 8,
     "metadata": {},
     "output_type": "execute_result"
    }
   ],
   "source": [
    "df_sampled.head() # prints the first five indexes of the new sampled db."
   ]
  },
  {
   "cell_type": "code",
   "execution_count": 9,
   "id": "c224c523-bdc8-416e-ae15-37fbf79bd834",
   "metadata": {
    "scrolled": true
   },
   "outputs": [
    {
     "name": "stdout",
     "output_type": "stream",
     "text": [
      "hs_degree    0.853128\n",
      "dtype: float64\n"
     ]
    }
   ],
   "source": [
    "# finds and prints the mean rate of hs_degree\n",
    "hs_degree_mean = df_sampled[['hs_degree']].mean()\n",
    "print(hs_degree_mean)"
   ]
  },
  {
   "cell_type": "code",
   "execution_count": 10,
   "id": "ab227e3e",
   "metadata": {},
   "outputs": [
    {
     "name": "stdout",
     "output_type": "stream",
     "text": [
      "\n",
      "Number of 'Yes' in avg_person_graduated: 204\n",
      "Number of 'No' in avg_person_graduated: 175\n"
     ]
    },
    {
     "data": {
      "text/html": [
       "<div>\n",
       "<style scoped>\n",
       "    .dataframe tbody tr th:only-of-type {\n",
       "        vertical-align: middle;\n",
       "    }\n",
       "\n",
       "    .dataframe tbody tr th {\n",
       "        vertical-align: top;\n",
       "    }\n",
       "\n",
       "    .dataframe thead th {\n",
       "        text-align: right;\n",
       "    }\n",
       "</style>\n",
       "<table border=\"1\" class=\"dataframe\">\n",
       "  <thead>\n",
       "    <tr style=\"text-align: right;\">\n",
       "      <th></th>\n",
       "      <th>UID</th>\n",
       "      <th>SUMLEVEL</th>\n",
       "      <th>COUNTYID</th>\n",
       "      <th>STATEID</th>\n",
       "      <th>state</th>\n",
       "      <th>state_ab</th>\n",
       "      <th>city</th>\n",
       "      <th>place</th>\n",
       "      <th>type</th>\n",
       "      <th>primary</th>\n",
       "      <th>...</th>\n",
       "      <th>female_age_median</th>\n",
       "      <th>female_age_stdev</th>\n",
       "      <th>female_age_sample_weight</th>\n",
       "      <th>female_age_samples</th>\n",
       "      <th>pct_own</th>\n",
       "      <th>married</th>\n",
       "      <th>married_snp</th>\n",
       "      <th>separated</th>\n",
       "      <th>divorced</th>\n",
       "      <th>avg_person_graduated</th>\n",
       "    </tr>\n",
       "  </thead>\n",
       "  <tbody>\n",
       "    <tr>\n",
       "      <th>28042</th>\n",
       "      <td>274106</td>\n",
       "      <td>140</td>\n",
       "      <td>71</td>\n",
       "      <td>40</td>\n",
       "      <td>Oklahoma</td>\n",
       "      <td>OK</td>\n",
       "      <td>Ponca City</td>\n",
       "      <td>Ponca City City</td>\n",
       "      <td>CDP</td>\n",
       "      <td>tract</td>\n",
       "      <td>...</td>\n",
       "      <td>31.50000</td>\n",
       "      <td>23.54095</td>\n",
       "      <td>306.30117</td>\n",
       "      <td>1167.0</td>\n",
       "      <td>0.54024</td>\n",
       "      <td>0.39565</td>\n",
       "      <td>0.06087</td>\n",
       "      <td>0.01304</td>\n",
       "      <td>0.20109</td>\n",
       "      <td>No</td>\n",
       "    </tr>\n",
       "    <tr>\n",
       "      <th>28041</th>\n",
       "      <td>274105</td>\n",
       "      <td>140</td>\n",
       "      <td>71</td>\n",
       "      <td>40</td>\n",
       "      <td>Oklahoma</td>\n",
       "      <td>OK</td>\n",
       "      <td>Ponca City</td>\n",
       "      <td>Ponca City City</td>\n",
       "      <td>CDP</td>\n",
       "      <td>tract</td>\n",
       "      <td>...</td>\n",
       "      <td>50.83333</td>\n",
       "      <td>25.64405</td>\n",
       "      <td>528.37495</td>\n",
       "      <td>2185.0</td>\n",
       "      <td>0.88491</td>\n",
       "      <td>0.61270</td>\n",
       "      <td>0.02097</td>\n",
       "      <td>0.00000</td>\n",
       "      <td>0.09027</td>\n",
       "      <td>Yes</td>\n",
       "    </tr>\n",
       "    <tr>\n",
       "      <th>18952</th>\n",
       "      <td>256583</td>\n",
       "      <td>140</td>\n",
       "      <td>79</td>\n",
       "      <td>27</td>\n",
       "      <td>Minnesota</td>\n",
       "      <td>MN</td>\n",
       "      <td>Le Sueur</td>\n",
       "      <td>Le Sueur City</td>\n",
       "      <td>City</td>\n",
       "      <td>tract</td>\n",
       "      <td>...</td>\n",
       "      <td>42.66667</td>\n",
       "      <td>24.41565</td>\n",
       "      <td>547.77694</td>\n",
       "      <td>2306.0</td>\n",
       "      <td>0.81243</td>\n",
       "      <td>0.53216</td>\n",
       "      <td>0.03415</td>\n",
       "      <td>0.00626</td>\n",
       "      <td>0.08480</td>\n",
       "      <td>Yes</td>\n",
       "    </tr>\n",
       "    <tr>\n",
       "      <th>29826</th>\n",
       "      <td>277462</td>\n",
       "      <td>140</td>\n",
       "      <td>75</td>\n",
       "      <td>42</td>\n",
       "      <td>Pennsylvania</td>\n",
       "      <td>PA</td>\n",
       "      <td>Richland</td>\n",
       "      <td>Newmanstown</td>\n",
       "      <td>Borough</td>\n",
       "      <td>tract</td>\n",
       "      <td>...</td>\n",
       "      <td>40.00000</td>\n",
       "      <td>23.58824</td>\n",
       "      <td>650.46585</td>\n",
       "      <td>2750.0</td>\n",
       "      <td>0.75569</td>\n",
       "      <td>0.50917</td>\n",
       "      <td>0.01659</td>\n",
       "      <td>0.01092</td>\n",
       "      <td>0.10611</td>\n",
       "      <td>No</td>\n",
       "    </tr>\n",
       "    <tr>\n",
       "      <th>8778</th>\n",
       "      <td>237145</td>\n",
       "      <td>140</td>\n",
       "      <td>95</td>\n",
       "      <td>12</td>\n",
       "      <td>Florida</td>\n",
       "      <td>FL</td>\n",
       "      <td>Orlando</td>\n",
       "      <td>Orlovista</td>\n",
       "      <td>City</td>\n",
       "      <td>tract</td>\n",
       "      <td>...</td>\n",
       "      <td>29.08333</td>\n",
       "      <td>15.33628</td>\n",
       "      <td>265.84915</td>\n",
       "      <td>1049.0</td>\n",
       "      <td>0.06709</td>\n",
       "      <td>0.33670</td>\n",
       "      <td>0.02648</td>\n",
       "      <td>0.00000</td>\n",
       "      <td>0.08827</td>\n",
       "      <td>Yes</td>\n",
       "    </tr>\n",
       "  </tbody>\n",
       "</table>\n",
       "<p>5 rows × 80 columns</p>\n",
       "</div>"
      ],
      "text/plain": [
       "          UID  SUMLEVEL  COUNTYID  STATEID         state state_ab        city  \\\n",
       "28042  274106       140        71       40      Oklahoma       OK  Ponca City   \n",
       "28041  274105       140        71       40      Oklahoma       OK  Ponca City   \n",
       "18952  256583       140        79       27     Minnesota       MN    Le Sueur   \n",
       "29826  277462       140        75       42  Pennsylvania       PA    Richland   \n",
       "8778   237145       140        95       12       Florida       FL     Orlando   \n",
       "\n",
       "                 place     type primary  ...  female_age_median  \\\n",
       "28042  Ponca City City      CDP   tract  ...           31.50000   \n",
       "28041  Ponca City City      CDP   tract  ...           50.83333   \n",
       "18952    Le Sueur City     City   tract  ...           42.66667   \n",
       "29826      Newmanstown  Borough   tract  ...           40.00000   \n",
       "8778         Orlovista     City   tract  ...           29.08333   \n",
       "\n",
       "       female_age_stdev  female_age_sample_weight  female_age_samples  \\\n",
       "28042          23.54095                 306.30117              1167.0   \n",
       "28041          25.64405                 528.37495              2185.0   \n",
       "18952          24.41565                 547.77694              2306.0   \n",
       "29826          23.58824                 650.46585              2750.0   \n",
       "8778           15.33628                 265.84915              1049.0   \n",
       "\n",
       "       pct_own  married  married_snp  separated  divorced  \\\n",
       "28042  0.54024  0.39565      0.06087    0.01304   0.20109   \n",
       "28041  0.88491  0.61270      0.02097    0.00000   0.09027   \n",
       "18952  0.81243  0.53216      0.03415    0.00626   0.08480   \n",
       "29826  0.75569  0.50917      0.01659    0.01092   0.10611   \n",
       "8778   0.06709  0.33670      0.02648    0.00000   0.08827   \n",
       "\n",
       "       avg_person_graduated  \n",
       "28042                    No  \n",
       "28041                   Yes  \n",
       "18952                   Yes  \n",
       "29826                    No  \n",
       "8778                    Yes  \n",
       "\n",
       "[5 rows x 80 columns]"
      ]
     },
     "execution_count": 10,
     "metadata": {},
     "output_type": "execute_result"
    }
   ],
   "source": [
    "# write function to check whether or not the average person is graduated\n",
    "def check_condition(value, threshold):\n",
    "    if value > threshold:\n",
    "        return 'Yes'\n",
    "    else:\n",
    "        return 'No'\n",
    "\n",
    "# uses function to check whether values are greater or lesser and writes to new column\n",
    "df_sampled['avg_person_graduated'] = df_sampled['hs_degree'].apply(lambda x: check_condition(x, 0.868529))\n",
    "\n",
    "# verifies the counts of yesses and nos within the newly generated column\n",
    "yes_count = df_sampled[df_sampled['avg_person_graduated'] == 'Yes'].shape[0]\n",
    "no_count = df_sampled[df_sampled['avg_person_graduated'] == 'No'].shape[0]\n",
    "\n",
    "# verifies whether function worked\n",
    "print(f\"\\nNumber of 'Yes' in avg_person_graduated: {yes_count}\")\n",
    "print(f\"Number of 'No' in avg_person_graduated: {no_count}\")\n",
    "df_sampled.head()"
   ]
  },
  {
   "cell_type": "code",
   "execution_count": 11,
   "id": "292bb6a7",
   "metadata": {},
   "outputs": [],
   "source": [
    "from sklearn.model_selection import train_test_split"
   ]
  },
  {
   "cell_type": "code",
   "execution_count": 12,
   "id": "ec34a04b",
   "metadata": {},
   "outputs": [],
   "source": [
    "# defines x and y values for training\n",
    "data_no_hs_degree = df_sampled[['debt', 'rent_mean', 'hc_mortgage_mean', 'home_equity_second_mortgage', 'second_mortgage', 'home_equity']]\n",
    "X = data_no_hs_degree\n",
    "y = df_sampled['avg_person_graduated'].apply(lambda x: 1 if x=='Yes' else 0)"
   ]
  },
  {
   "cell_type": "code",
   "execution_count": 13,
   "id": "c64d2589",
   "metadata": {},
   "outputs": [],
   "source": [
    "# splits data into x and y trains and preds\n",
    "X_train, X_test, y_train, y_test = train_test_split(X, y, test_size=.2)"
   ]
  },
  {
   "cell_type": "code",
   "execution_count": 14,
   "id": "9defd835",
   "metadata": {},
   "outputs": [
    {
     "name": "stdout",
     "output_type": "stream",
     "text": [
      "          debt   rent_mean  hc_mortgage_mean  home_equity_second_mortgage  \\\n",
      "35500  0.61290   890.77634        1608.89280                      0.01708   \n",
      "29826  0.68309   905.03306        1406.89717                      0.01248   \n",
      "21230  0.94272  1194.99965        1296.69284                      0.11223   \n",
      "4596   0.84656  1071.15091        2006.59914                      0.11111   \n",
      "11725  0.52128  1101.88965        1388.01449                      0.06915   \n",
      "...        ...         ...               ...                          ...   \n",
      "35844  0.62338   847.48131        1884.53329                      0.01299   \n",
      "9889   0.70972  1100.73151        1398.04903                      0.00000   \n",
      "33117  0.44917   611.46033        1385.36382                      0.00000   \n",
      "16085  0.76352  1426.79628        2124.42871                      0.00624   \n",
      "22763  0.81616  1816.83621        2498.54059                      0.02529   \n",
      "\n",
      "       second_mortgage  home_equity  \n",
      "35500          0.01708      0.07021  \n",
      "29826          0.01435      0.14660  \n",
      "21230          0.11223      0.24303  \n",
      "4596           0.11111      0.21693  \n",
      "11725          0.11348      0.10993  \n",
      "...                ...          ...  \n",
      "35844          0.01855      0.11596  \n",
      "9889           0.01044      0.01957  \n",
      "33117          0.00000      0.02285  \n",
      "16085          0.00624      0.16019  \n",
      "22763          0.03331      0.16163  \n",
      "\n",
      "[303 rows x 6 columns]\n"
     ]
    }
   ],
   "source": [
    "print(X_train) # prints X_train"
   ]
  },
  {
   "cell_type": "code",
   "execution_count": 15,
   "id": "ccad44c7",
   "metadata": {},
   "outputs": [
    {
     "name": "stdout",
     "output_type": "stream",
     "text": [
      "35500    1\n",
      "29826    0\n",
      "21230    1\n",
      "4596     0\n",
      "11725    0\n",
      "        ..\n",
      "35844    0\n",
      "9889     0\n",
      "33117    1\n",
      "16085    1\n",
      "22763    1\n",
      "Name: avg_person_graduated, Length: 303, dtype: int64\n"
     ]
    }
   ],
   "source": [
    "print(y_train) # prints y_train"
   ]
  },
  {
   "cell_type": "code",
   "execution_count": 16,
   "id": "9a639420",
   "metadata": {
    "scrolled": false
   },
   "outputs": [
    {
     "data": {
      "text/plain": [
       "debt                           False\n",
       "rent_mean                      False\n",
       "hc_mortgage_mean               False\n",
       "home_equity_second_mortgage    False\n",
       "second_mortgage                False\n",
       "home_equity                    False\n",
       "dtype: bool"
      ]
     },
     "execution_count": 16,
     "metadata": {},
     "output_type": "execute_result"
    }
   ],
   "source": [
    "np.isnan(X_train).any() # checks X_train for any nan values"
   ]
  },
  {
   "cell_type": "code",
   "execution_count": 17,
   "id": "96271df1",
   "metadata": {
    "scrolled": true
   },
   "outputs": [
    {
     "data": {
      "text/plain": [
       "debt                           False\n",
       "rent_mean                      False\n",
       "hc_mortgage_mean               False\n",
       "home_equity_second_mortgage    False\n",
       "second_mortgage                False\n",
       "home_equity                    False\n",
       "dtype: bool"
      ]
     },
     "execution_count": 17,
     "metadata": {},
     "output_type": "execute_result"
    }
   ],
   "source": [
    "X_train.isnull().any() # checks X_train for any null values"
   ]
  },
  {
   "cell_type": "code",
   "execution_count": 18,
   "id": "5cfa960a",
   "metadata": {},
   "outputs": [
    {
     "data": {
      "text/plain": [
       "False"
      ]
     },
     "execution_count": 18,
     "metadata": {},
     "output_type": "execute_result"
    }
   ],
   "source": [
    "np.isnan(y_train).any() # checks y_train for any nan values"
   ]
  },
  {
   "cell_type": "code",
   "execution_count": 19,
   "id": "e54e15cf",
   "metadata": {},
   "outputs": [
    {
     "data": {
      "text/plain": [
       "False"
      ]
     },
     "execution_count": 19,
     "metadata": {},
     "output_type": "execute_result"
    }
   ],
   "source": [
    "y_train.isnull().any() # checks y_train for any null values"
   ]
  },
  {
   "cell_type": "code",
   "execution_count": 20,
   "id": "6ab1bbb4",
   "metadata": {},
   "outputs": [],
   "source": [
    "# loads important models\n",
    "from tensorflow.keras.models import Sequential, load_model\n",
    "from tensorflow.keras.layers import Dense, BatchNormalization\n",
    "from sklearn.metrics import accuracy_score\n",
    "\n",
    "# defines model, including two layers\n",
    "model = Sequential()\n",
    "model.add(Dense(units=32, activation='ReLU', input_dim=len(X_train.columns)))\n",
    "model.add(Dense(units=64, activation='ReLU'))\n",
    "model.add(Dense(units=1, activation='sigmoid'))\n",
    "\n",
    "#imports optimizer and learning rate\n",
    "from tensorflow.keras.optimizers import Adam\n",
    "from tensorflow.keras.callbacks import LearningRateScheduler\n",
    "\n",
    "# optimizer\n",
    "initial_learning_rate = 0.001  # learning rate\n",
    "optimizer = Adam(learning_rate=initial_learning_rate)\n",
    "\n",
    "# learning rate scheduler\n",
    "def lr_scheduler(epoch):\n",
    "    return initial_learning_rate * 0.95 ** epoch\n",
    "\n",
    "# callbacks learning rate per epoch\n",
    "lr_callback = LearningRateScheduler(lr_scheduler)"
   ]
  },
  {
   "cell_type": "code",
   "execution_count": 21,
   "id": "cf02e49d",
   "metadata": {},
   "outputs": [],
   "source": [
    "# defines model compiler\n",
    "model.compile(optimizer=optimizer, loss='binary_crossentropy', metrics=['accuracy'])"
   ]
  },
  {
   "cell_type": "code",
   "execution_count": 22,
   "id": "b69fbbf8",
   "metadata": {},
   "outputs": [
    {
     "name": "stdout",
     "output_type": "stream",
     "text": [
      "Epoch 1/100\n",
      "303/303 [==============================] - 1s 923us/step - loss: 13.8130 - accuracy: 0.5413 - lr: 0.0010\n",
      "Epoch 2/100\n",
      "303/303 [==============================] - 0s 879us/step - loss: 12.4481 - accuracy: 0.4983 - lr: 9.5000e-04\n",
      "Epoch 3/100\n",
      "303/303 [==============================] - 0s 883us/step - loss: 5.3849 - accuracy: 0.5281 - lr: 9.0250e-04\n",
      "Epoch 4/100\n",
      "303/303 [==============================] - 0s 851us/step - loss: 4.1906 - accuracy: 0.5083 - lr: 8.5737e-04\n",
      "Epoch 5/100\n",
      "303/303 [==============================] - 0s 842us/step - loss: 7.4898 - accuracy: 0.4917 - lr: 8.1451e-04\n",
      "Epoch 6/100\n",
      "303/303 [==============================] - 0s 864us/step - loss: 4.9659 - accuracy: 0.4851 - lr: 7.7378e-04\n",
      "Epoch 7/100\n",
      "303/303 [==============================] - 0s 883us/step - loss: 3.3937 - accuracy: 0.4818 - lr: 7.3509e-04\n",
      "Epoch 8/100\n",
      "303/303 [==============================] - 0s 992us/step - loss: 4.2020 - accuracy: 0.5215 - lr: 6.9834e-04\n",
      "Epoch 9/100\n",
      "303/303 [==============================] - 0s 837us/step - loss: 2.9467 - accuracy: 0.5479 - lr: 6.6342e-04\n",
      "Epoch 10/100\n",
      "303/303 [==============================] - 0s 912us/step - loss: 2.9197 - accuracy: 0.5149 - lr: 6.3025e-04\n",
      "Epoch 11/100\n",
      "303/303 [==============================] - 0s 917us/step - loss: 3.2000 - accuracy: 0.5413 - lr: 5.9874e-04\n",
      "Epoch 12/100\n",
      "303/303 [==============================] - 0s 1ms/step - loss: 3.1033 - accuracy: 0.5413 - lr: 5.6880e-04\n",
      "Epoch 13/100\n",
      "303/303 [==============================] - 0s 918us/step - loss: 3.6342 - accuracy: 0.4785 - lr: 5.4036e-04\n",
      "Epoch 14/100\n",
      "303/303 [==============================] - 0s 880us/step - loss: 2.2332 - accuracy: 0.4818 - lr: 5.1334e-04\n",
      "Epoch 15/100\n",
      "303/303 [==============================] - 0s 1ms/step - loss: 2.0951 - accuracy: 0.4719 - lr: 4.8767e-04\n",
      "Epoch 16/100\n",
      "303/303 [==============================] - 0s 1ms/step - loss: 2.1842 - accuracy: 0.4785 - lr: 4.6329e-04\n",
      "Epoch 17/100\n",
      "303/303 [==============================] - 0s 1ms/step - loss: 2.0263 - accuracy: 0.5083 - lr: 4.4013e-04\n",
      "Epoch 18/100\n",
      "303/303 [==============================] - 0s 1ms/step - loss: 1.7638 - accuracy: 0.5347 - lr: 4.1812e-04\n",
      "Epoch 19/100\n",
      "303/303 [==============================] - 0s 827us/step - loss: 1.5154 - accuracy: 0.5215 - lr: 3.9721e-04\n",
      "Epoch 20/100\n",
      "303/303 [==============================] - 0s 879us/step - loss: 1.6869 - accuracy: 0.5677 - lr: 3.7735e-04\n",
      "Epoch 21/100\n",
      "303/303 [==============================] - 0s 875us/step - loss: 1.5909 - accuracy: 0.5281 - lr: 3.5849e-04\n",
      "Epoch 22/100\n",
      "303/303 [==============================] - 0s 825us/step - loss: 1.7476 - accuracy: 0.5611 - lr: 3.4056e-04\n",
      "Epoch 23/100\n",
      "303/303 [==============================] - 0s 856us/step - loss: 1.7080 - accuracy: 0.5578 - lr: 3.2353e-04\n",
      "Epoch 24/100\n",
      "303/303 [==============================] - 0s 829us/step - loss: 1.3244 - accuracy: 0.5314 - lr: 3.0736e-04\n",
      "Epoch 25/100\n",
      "303/303 [==============================] - 0s 859us/step - loss: 1.1900 - accuracy: 0.5578 - lr: 2.9199e-04\n",
      "Epoch 26/100\n",
      "303/303 [==============================] - 0s 809us/step - loss: 1.4511 - accuracy: 0.5314 - lr: 2.7739e-04\n",
      "Epoch 27/100\n",
      "303/303 [==============================] - 0s 818us/step - loss: 1.0059 - accuracy: 0.5578 - lr: 2.6352e-04\n",
      "Epoch 28/100\n",
      "303/303 [==============================] - 0s 883us/step - loss: 1.0476 - accuracy: 0.5743 - lr: 2.5034e-04\n",
      "Epoch 29/100\n",
      "303/303 [==============================] - 0s 860us/step - loss: 1.0112 - accuracy: 0.5578 - lr: 2.3783e-04\n",
      "Epoch 30/100\n",
      "303/303 [==============================] - 0s 890us/step - loss: 1.2638 - accuracy: 0.5380 - lr: 2.2594e-04\n",
      "Epoch 31/100\n",
      "303/303 [==============================] - 0s 908us/step - loss: 1.0605 - accuracy: 0.5677 - lr: 2.1464e-04\n",
      "Epoch 32/100\n",
      "303/303 [==============================] - 0s 871us/step - loss: 0.9025 - accuracy: 0.5644 - lr: 2.0391e-04\n",
      "Epoch 33/100\n",
      "303/303 [==============================] - 0s 812us/step - loss: 1.2148 - accuracy: 0.5281 - lr: 1.9371e-04\n",
      "Epoch 34/100\n",
      "303/303 [==============================] - 0s 813us/step - loss: 0.9959 - accuracy: 0.5875 - lr: 1.8403e-04\n",
      "Epoch 35/100\n",
      "303/303 [==============================] - 0s 841us/step - loss: 0.9683 - accuracy: 0.5512 - lr: 1.7482e-04\n",
      "Epoch 36/100\n",
      "303/303 [==============================] - 0s 850us/step - loss: 1.0905 - accuracy: 0.5248 - lr: 1.6608e-04\n",
      "Epoch 37/100\n",
      "303/303 [==============================] - 0s 881us/step - loss: 0.8497 - accuracy: 0.6073 - lr: 1.5778e-04\n",
      "Epoch 38/100\n",
      "303/303 [==============================] - 0s 843us/step - loss: 0.8132 - accuracy: 0.5776 - lr: 1.4989e-04\n",
      "Epoch 39/100\n",
      "303/303 [==============================] - 0s 871us/step - loss: 0.8394 - accuracy: 0.5875 - lr: 1.4240e-04\n",
      "Epoch 40/100\n",
      "303/303 [==============================] - 0s 863us/step - loss: 0.9479 - accuracy: 0.6106 - lr: 1.3528e-04\n",
      "Epoch 41/100\n",
      "303/303 [==============================] - 0s 892us/step - loss: 1.0109 - accuracy: 0.5248 - lr: 1.2851e-04\n",
      "Epoch 42/100\n",
      "303/303 [==============================] - 0s 819us/step - loss: 0.7970 - accuracy: 0.5677 - lr: 1.2209e-04\n",
      "Epoch 43/100\n",
      "303/303 [==============================] - 0s 826us/step - loss: 0.7629 - accuracy: 0.6304 - lr: 1.1598e-04\n",
      "Epoch 44/100\n",
      "303/303 [==============================] - 0s 869us/step - loss: 0.7305 - accuracy: 0.6469 - lr: 1.1018e-04\n",
      "Epoch 45/100\n",
      "303/303 [==============================] - 0s 870us/step - loss: 0.7492 - accuracy: 0.5941 - lr: 1.0467e-04\n",
      "Epoch 46/100\n",
      "303/303 [==============================] - 0s 871us/step - loss: 0.8766 - accuracy: 0.6007 - lr: 9.9440e-05\n",
      "Epoch 47/100\n",
      "303/303 [==============================] - 0s 880us/step - loss: 0.8046 - accuracy: 0.5842 - lr: 9.4468e-05\n",
      "Epoch 48/100\n",
      "303/303 [==============================] - 0s 871us/step - loss: 0.7065 - accuracy: 0.6238 - lr: 8.9745e-05\n",
      "Epoch 49/100\n",
      "303/303 [==============================] - 0s 855us/step - loss: 0.6828 - accuracy: 0.6502 - lr: 8.5258e-05\n",
      "Epoch 50/100\n",
      "303/303 [==============================] - 0s 869us/step - loss: 0.6983 - accuracy: 0.6337 - lr: 8.0995e-05\n",
      "Epoch 51/100\n",
      "303/303 [==============================] - 0s 811us/step - loss: 0.7322 - accuracy: 0.6139 - lr: 7.6945e-05\n",
      "Epoch 52/100\n",
      "303/303 [==============================] - 0s 819us/step - loss: 0.6984 - accuracy: 0.6106 - lr: 7.3098e-05\n",
      "Epoch 53/100\n",
      "303/303 [==============================] - 0s 825us/step - loss: 0.7511 - accuracy: 0.6073 - lr: 6.9443e-05\n",
      "Epoch 54/100\n",
      "303/303 [==============================] - 0s 811us/step - loss: 0.6847 - accuracy: 0.6238 - lr: 6.5971e-05\n",
      "Epoch 55/100\n",
      "303/303 [==============================] - 0s 814us/step - loss: 0.7201 - accuracy: 0.6502 - lr: 6.2672e-05\n",
      "Epoch 56/100\n",
      "303/303 [==============================] - 0s 835us/step - loss: 0.6596 - accuracy: 0.6370 - lr: 5.9539e-05\n",
      "Epoch 57/100\n",
      "303/303 [==============================] - 0s 874us/step - loss: 0.7165 - accuracy: 0.6040 - lr: 5.6562e-05\n",
      "Epoch 58/100\n",
      "303/303 [==============================] - 0s 840us/step - loss: 0.6702 - accuracy: 0.6238 - lr: 5.3734e-05\n",
      "Epoch 59/100\n",
      "303/303 [==============================] - 0s 825us/step - loss: 0.6907 - accuracy: 0.6337 - lr: 5.1047e-05\n",
      "Epoch 60/100\n",
      "303/303 [==============================] - 0s 853us/step - loss: 0.6874 - accuracy: 0.6304 - lr: 4.8495e-05\n",
      "Epoch 61/100\n",
      "303/303 [==============================] - 0s 847us/step - loss: 0.6544 - accuracy: 0.6535 - lr: 4.6070e-05\n",
      "Epoch 62/100\n",
      "303/303 [==============================] - 0s 797us/step - loss: 0.6841 - accuracy: 0.6172 - lr: 4.3766e-05\n",
      "Epoch 63/100\n",
      "303/303 [==============================] - 0s 810us/step - loss: 0.6779 - accuracy: 0.6271 - lr: 4.1578e-05\n",
      "Epoch 64/100\n",
      "303/303 [==============================] - 0s 823us/step - loss: 0.6861 - accuracy: 0.6601 - lr: 3.9499e-05\n",
      "Epoch 65/100\n",
      "303/303 [==============================] - 0s 794us/step - loss: 0.6539 - accuracy: 0.6535 - lr: 3.7524e-05\n",
      "Epoch 66/100\n",
      "303/303 [==============================] - 0s 816us/step - loss: 0.6346 - accuracy: 0.6304 - lr: 3.5648e-05\n",
      "Epoch 67/100\n",
      "303/303 [==============================] - 0s 907us/step - loss: 0.6864 - accuracy: 0.6238 - lr: 3.3866e-05\n",
      "Epoch 68/100\n",
      "303/303 [==============================] - 0s 805us/step - loss: 0.6739 - accuracy: 0.6238 - lr: 3.2172e-05\n",
      "Epoch 69/100\n",
      "303/303 [==============================] - 0s 848us/step - loss: 0.6174 - accuracy: 0.6469 - lr: 3.0564e-05\n",
      "Epoch 70/100\n",
      "303/303 [==============================] - 0s 847us/step - loss: 0.6502 - accuracy: 0.6502 - lr: 2.9035e-05\n",
      "Epoch 71/100\n",
      "303/303 [==============================] - 0s 859us/step - loss: 0.6334 - accuracy: 0.6667 - lr: 2.7584e-05\n",
      "Epoch 72/100\n",
      "303/303 [==============================] - 0s 803us/step - loss: 0.6386 - accuracy: 0.6568 - lr: 2.6205e-05\n",
      "Epoch 73/100\n",
      "303/303 [==============================] - 0s 812us/step - loss: 0.6399 - accuracy: 0.6403 - lr: 2.4894e-05\n",
      "Epoch 74/100\n",
      "303/303 [==============================] - 0s 833us/step - loss: 0.6340 - accuracy: 0.6634 - lr: 2.3650e-05\n",
      "Epoch 75/100\n",
      "303/303 [==============================] - 0s 819us/step - loss: 0.6185 - accuracy: 0.6502 - lr: 2.2467e-05\n",
      "Epoch 76/100\n",
      "303/303 [==============================] - 0s 1ms/step - loss: 0.6343 - accuracy: 0.6502 - lr: 2.1344e-05\n",
      "Epoch 77/100\n",
      "303/303 [==============================] - 0s 978us/step - loss: 0.6185 - accuracy: 0.6436 - lr: 2.0277e-05\n",
      "Epoch 78/100\n",
      "303/303 [==============================] - 0s 1ms/step - loss: 0.6314 - accuracy: 0.6403 - lr: 1.9263e-05\n",
      "Epoch 79/100\n",
      "303/303 [==============================] - 0s 1ms/step - loss: 0.6312 - accuracy: 0.6568 - lr: 1.8300e-05\n",
      "Epoch 80/100\n",
      "303/303 [==============================] - 0s 816us/step - loss: 0.6282 - accuracy: 0.6403 - lr: 1.7385e-05\n",
      "Epoch 81/100\n",
      "303/303 [==============================] - 0s 798us/step - loss: 0.6157 - accuracy: 0.6733 - lr: 1.6515e-05\n",
      "Epoch 82/100\n",
      "303/303 [==============================] - 0s 805us/step - loss: 0.6268 - accuracy: 0.6634 - lr: 1.5690e-05\n",
      "Epoch 83/100\n",
      "303/303 [==============================] - 0s 833us/step - loss: 0.6055 - accuracy: 0.6601 - lr: 1.4905e-05\n",
      "Epoch 84/100\n",
      "303/303 [==============================] - 0s 802us/step - loss: 0.6193 - accuracy: 0.6403 - lr: 1.4160e-05\n",
      "Epoch 85/100\n",
      "303/303 [==============================] - 0s 825us/step - loss: 0.6154 - accuracy: 0.6502 - lr: 1.3452e-05\n",
      "Epoch 86/100\n",
      "303/303 [==============================] - 0s 801us/step - loss: 0.6091 - accuracy: 0.6568 - lr: 1.2779e-05\n",
      "Epoch 87/100\n",
      "303/303 [==============================] - 0s 820us/step - loss: 0.6070 - accuracy: 0.6502 - lr: 1.2140e-05\n",
      "Epoch 88/100\n",
      "303/303 [==============================] - 0s 856us/step - loss: 0.6134 - accuracy: 0.6304 - lr: 1.1533e-05\n",
      "Epoch 89/100\n",
      "303/303 [==============================] - 0s 832us/step - loss: 0.6138 - accuracy: 0.6337 - lr: 1.0957e-05\n",
      "Epoch 90/100\n",
      "303/303 [==============================] - 0s 850us/step - loss: 0.6087 - accuracy: 0.6832 - lr: 1.0409e-05\n",
      "Epoch 91/100\n",
      "303/303 [==============================] - 0s 803us/step - loss: 0.6059 - accuracy: 0.6766 - lr: 9.8884e-06\n",
      "Epoch 92/100\n",
      "303/303 [==============================] - 0s 811us/step - loss: 0.6047 - accuracy: 0.6469 - lr: 9.3939e-06\n",
      "Epoch 93/100\n",
      "303/303 [==============================] - 0s 861us/step - loss: 0.6095 - accuracy: 0.6700 - lr: 8.9242e-06\n",
      "Epoch 94/100\n",
      "303/303 [==============================] - 0s 811us/step - loss: 0.6111 - accuracy: 0.6634 - lr: 8.4780e-06\n",
      "Epoch 95/100\n",
      "303/303 [==============================] - 0s 839us/step - loss: 0.6046 - accuracy: 0.6733 - lr: 8.0541e-06\n",
      "Epoch 96/100\n",
      "303/303 [==============================] - 0s 800us/step - loss: 0.6071 - accuracy: 0.6733 - lr: 7.6514e-06\n",
      "Epoch 97/100\n",
      "303/303 [==============================] - 0s 824us/step - loss: 0.6017 - accuracy: 0.6832 - lr: 7.2689e-06\n",
      "Epoch 98/100\n",
      "303/303 [==============================] - 0s 801us/step - loss: 0.6049 - accuracy: 0.6436 - lr: 6.9054e-06\n",
      "Epoch 99/100\n",
      "303/303 [==============================] - 0s 800us/step - loss: 0.6042 - accuracy: 0.6403 - lr: 6.5601e-06\n",
      "Epoch 100/100\n",
      "303/303 [==============================] - 0s 820us/step - loss: 0.6040 - accuracy: 0.6601 - lr: 6.2321e-06\n"
     ]
    },
    {
     "data": {
      "text/plain": [
       "<keras.callbacks.History at 0x1b422ab74c8>"
      ]
     },
     "execution_count": 22,
     "metadata": {},
     "output_type": "execute_result"
    }
   ],
   "source": [
    "# fits model\n",
    "model.fit(X_train, y_train, batch_size = 1, epochs = 100, callbacks=[lr_callback])"
   ]
  },
  {
   "cell_type": "code",
   "execution_count": 23,
   "id": "b26e92f8",
   "metadata": {},
   "outputs": [
    {
     "name": "stdout",
     "output_type": "stream",
     "text": [
      "3/3 [==============================] - 0s 2ms/step\n",
      "[[0.38244775]\n",
      " [0.5091133 ]\n",
      " [0.30699965]\n",
      " [0.33607358]\n",
      " [0.65957654]\n",
      " [0.49264824]\n",
      " [0.7033243 ]\n",
      " [0.31783146]\n",
      " [0.6035212 ]\n",
      " [0.445834  ]\n",
      " [0.3727585 ]\n",
      " [0.48285115]\n",
      " [0.3142836 ]\n",
      " [0.7631702 ]\n",
      " [0.49732694]\n",
      " [0.90104526]\n",
      " [0.396039  ]\n",
      " [0.40993902]\n",
      " [0.69633114]\n",
      " [0.33761975]\n",
      " [0.40876442]\n",
      " [0.46476358]\n",
      " [0.3390164 ]\n",
      " [0.5959208 ]\n",
      " [0.36054713]\n",
      " [0.87523276]\n",
      " [0.5951397 ]\n",
      " [0.8650439 ]\n",
      " [0.5050291 ]\n",
      " [0.6532583 ]\n",
      " [0.56346714]\n",
      " [0.7930653 ]\n",
      " [0.71871936]\n",
      " [0.8592431 ]\n",
      " [0.34236288]\n",
      " [0.8242775 ]\n",
      " [0.33147472]\n",
      " [0.34079626]\n",
      " [0.7613334 ]\n",
      " [0.55747086]\n",
      " [0.37076193]\n",
      " [0.4952595 ]\n",
      " [0.26073715]\n",
      " [0.3191604 ]\n",
      " [0.38624474]\n",
      " [0.8619237 ]\n",
      " [0.92021185]\n",
      " [0.52615833]\n",
      " [0.3348885 ]\n",
      " [0.28700462]\n",
      " [0.38755816]\n",
      " [0.31717098]\n",
      " [0.48984864]\n",
      " [0.61148083]\n",
      " [0.58636934]\n",
      " [0.68119687]\n",
      " [0.4525634 ]\n",
      " [0.34191465]\n",
      " [0.99041   ]\n",
      " [0.29338357]\n",
      " [0.3533864 ]\n",
      " [0.39790192]\n",
      " [0.25408223]\n",
      " [0.6950447 ]\n",
      " [0.4534803 ]\n",
      " [0.7036975 ]\n",
      " [0.5040321 ]\n",
      " [0.3535625 ]\n",
      " [0.5485715 ]\n",
      " [0.3900039 ]\n",
      " [0.6769429 ]\n",
      " [0.37130854]\n",
      " [0.5963313 ]\n",
      " [0.47368678]\n",
      " [0.9039235 ]\n",
      " [0.6098102 ]]\n",
      "[0, 1, 0, 0, 1, 0, 1, 0, 1, 0, 0, 0, 0, 1, 0, 1, 0, 0, 1, 0, 0, 0, 0, 1, 0, 1, 1, 1, 1, 1, 1, 1, 1, 1, 0, 1, 0, 0, 1, 1, 0, 0, 0, 0, 0, 1, 1, 1, 0, 0, 0, 0, 0, 1, 1, 1, 0, 0, 1, 0, 0, 0, 0, 1, 0, 1, 1, 0, 1, 0, 1, 0, 1, 0, 1, 1]\n",
      "0.618421052631579\n"
     ]
    }
   ],
   "source": [
    "# performs a prediction\n",
    "y_hat = model.predict(X_test)\n",
    "\n",
    "# prints out the whole accuracy\n",
    "print(y_hat)\n",
    "\n",
    "# reevaluates to binary\n",
    "y_hat = [0 if val < 0.5 else 1 for val in y_hat]\n",
    "\n",
    "# prints out the accuracy again\n",
    "print(y_hat)\n",
    "\n",
    "# prints final accuracy\n",
    "print(accuracy_score(y_test, y_hat))"
   ]
  },
  {
   "cell_type": "code",
   "execution_count": 24,
   "id": "bccfc3cf",
   "metadata": {},
   "outputs": [
    {
     "data": {
      "text/plain": [
       "0.618421052631579"
      ]
     },
     "execution_count": 24,
     "metadata": {},
     "output_type": "execute_result"
    }
   ],
   "source": [
    "accuracy_score(y_test, y_hat)"
   ]
  },
  {
   "cell_type": "code",
   "execution_count": null,
   "id": "4c672ce0",
   "metadata": {},
   "outputs": [],
   "source": []
  },
  {
   "cell_type": "code",
   "execution_count": 25,
   "id": "5f09f6aa-073a-4c2d-99f4-a003ef42a70f",
   "metadata": {},
   "outputs": [
    {
     "name": "stdout",
     "output_type": "stream",
     "text": [
      "                             hs_degree  hs_degree_male  hs_degree_female  \\\n",
      "hs_degree                     1.000000        0.967506          0.965310   \n",
      "hs_degree_male                0.967506        1.000000          0.870492   \n",
      "hs_degree_female              0.965310        0.870492          1.000000   \n",
      "debt                          0.253148        0.260438          0.221315   \n",
      "rent_mean                     0.327022        0.320859          0.306138   \n",
      "hc_mortgage_mean              0.305197        0.310381          0.273673   \n",
      "home_equity_second_mortgage   0.093206        0.097534          0.082099   \n",
      "second_mortgage               0.092946        0.103640          0.075187   \n",
      "home_equity                   0.255617        0.260832          0.228118   \n",
      "\n",
      "                                 debt  rent_mean  hc_mortgage_mean  \\\n",
      "hs_degree                    0.253148   0.327022          0.305197   \n",
      "hs_degree_male               0.260438   0.320859          0.310381   \n",
      "hs_degree_female             0.221315   0.306138          0.273673   \n",
      "debt                         1.000000   0.508440          0.466058   \n",
      "rent_mean                    0.508440   1.000000          0.787857   \n",
      "hc_mortgage_mean             0.466058   0.787857          1.000000   \n",
      "home_equity_second_mortgage  0.413740   0.197495          0.225401   \n",
      "second_mortgage              0.424231   0.247945          0.249414   \n",
      "home_equity                  0.539558   0.415037          0.545700   \n",
      "\n",
      "                             home_equity_second_mortgage  second_mortgage  \\\n",
      "hs_degree                                       0.093206         0.092946   \n",
      "hs_degree_male                                  0.097534         0.103640   \n",
      "hs_degree_female                                0.082099         0.075187   \n",
      "debt                                            0.413740         0.424231   \n",
      "rent_mean                                       0.197495         0.247945   \n",
      "hc_mortgage_mean                                0.225401         0.249414   \n",
      "home_equity_second_mortgage                     1.000000         0.956616   \n",
      "second_mortgage                                 0.956616         1.000000   \n",
      "home_equity                                     0.541854         0.522726   \n",
      "\n",
      "                             home_equity  \n",
      "hs_degree                       0.255617  \n",
      "hs_degree_male                  0.260832  \n",
      "hs_degree_female                0.228118  \n",
      "debt                            0.539558  \n",
      "rent_mean                       0.415037  \n",
      "hc_mortgage_mean                0.545700  \n",
      "home_equity_second_mortgage     0.541854  \n",
      "second_mortgage                 0.522726  \n",
      "home_equity                     1.000000  \n"
     ]
    },
    {
     "data": {
      "image/png": "[encoded data removed]",
      "text/plain": [
       "<Figure size 640x480 with 2 Axes>"
      ]
     },
     "metadata": {},
     "output_type": "display_data"
    }
   ],
   "source": [
    "import matplotlib.pyplot as mp \n",
    "import seaborn as sb \n",
    "from PIL import _imaging\n",
    "from PIL import Image\n",
    "  \n",
    "# import file with data \n",
    "data = df_sampled[['hs_degree', 'hs_degree_male', 'hs_degree_female', 'debt', 'rent_mean', 'hc_mortgage_mean', 'home_equity_second_mortgage', 'second_mortgage', 'home_equity']]\n",
    "# prints data that will be plotted \n",
    "# columns shown here are selected by corr() since \n",
    "# they are ideal for the plot \n",
    "print(data.corr()) \n",
    "  \n",
    "# plotting correlation heatmap \n",
    "dataplot=sb.heatmap(data.corr(), annot=True)\n",
    "  \n",
    "# displaying heatmap\n",
    "mp.show() "
   ]
  },
  {
   "cell_type": "code",
   "execution_count": 64,
   "id": "4a454853",
   "metadata": {},
   "outputs": [
    {
     "data": {
      "application/vnd.plotly.v1+json": {
       "config": {
        "plotlyServerURL": "https://plot.ly"
       },
       "data": [
        {
         "coloraxis": "coloraxis",
         "geo": "geo",
         "hovertemplate": "<b>%{hovertext}</b><br><br>state_ab=%{location}<br>hs_degree=%{z}<extra></extra>",
         "hovertext": [
          "AK",
          "AL",
          "AR",
          "AZ",
          "CA",
          "CO",
          "CT",
          "DC",
          "DE",
          "FL",
          "GA",
          "HI",
          "IA",
          "ID",
          "IL",
          "IN",
          "KS",
          "KY",
          "LA",
          "MA",
          "MD",
          "ME",
          "MI",
          "MN",
          "MO",
          "MS",
          "MT",
          "NC",
          "ND",
          "NE",
          "NH",
          "NJ",
          "NM",
          "NV",
          "NY",
          "OH",
          "OK",
          "OR",
          "PA",
          "PR",
          "RI",
          "SC",
          "SD",
          "TN",
          "TX",
          "UT",
          "VA",
          "VT",
          "WA",
          "WI",
          "WV",
          "WY"
         ],
         "locationmode": "USA-states",
         "locations": [
          "AK",
          "AL",
          "AR",
          "AZ",
          "CA",
          "CO",
          "CT",
          "DC",
          "DE",
          "FL",
          "GA",
          "HI",
          "IA",
          "ID",
          "IL",
          "IN",
          "KS",
          "KY",
          "LA",
          "MA",
          "MD",
          "ME",
          "MI",
          "MN",
          "MO",
          "MS",
          "MT",
          "NC",
          "ND",
          "NE",
          "NH",
          "NJ",
          "NM",
          "NV",
          "NY",
          "OH",
          "OK",
          "OR",
          "PA",
          "PR",
          "RI",
          "SC",
          "SD",
          "TN",
          "TX",
          "UT",
          "VA",
          "VT",
          "WA",
          "WI",
          "WV",
          "WY"
         ],
         "name": "",
         "type": "choropleth",
         "z": [
          0.9155357281553398,
          0.8269476112026359,
          0.8382691853932585,
          0.8504501293661061,
          0.8125920469135802,
          0.9076407620528771,
          0.8994218620689656,
          0.8857440860215055,
          0.8762176851851853,
          0.8646906666666667,
          0.8427397328244275,
          0.9157532450331126,
          0.9061140579710144,
          0.8893790540540539,
          0.8664268427753025,
          0.8631340557667935,
          0.8860582201405152,
          0.8305361330935253,
          0.8223099831649832,
          0.8883311920529802,
          0.8895247010869566,
          0.9118655789473684,
          0.8842042027972028,
          0.9170564306358382,
          0.8755260027855153,
          0.8102432853025937,
          0.922446178343949,
          0.8536057843996494,
          0.9053962962962963,
          0.9041788847583643,
          0.9158367948717949,
          0.8812217497456766,
          0.8387606315789474,
          0.8449355976676385,
          0.8555457912317328,
          0.8800838984168866,
          0.8555491881918819,
          0.8974575717439293,
          0.8884756562683932,
          0.7228814565217391,
          0.8679191935483871,
          0.8443979454545455,
          0.9047695238095239,
          0.8485022924901185,
          0.8050658799249532,
          0.9100265203761755,
          0.8804303285420945,
          0.9132761290322581,
          0.8964331618569636,
          0.8961735090152566,
          0.85403,
          0.9219599999999999
         ]
        }
       ],
       "layout": {
        "coloraxis": {
         "colorbar": {
          "title": {
           "text": "hs_degree"
          }
         },
         "colorscale": [
          [
           0,
           "rgb(247,251,255)"
          ],
          [
           0.125,
           "rgb(222,235,247)"
          ],
          [
           0.25,
           "rgb(198,219,239)"
          ],
          [
           0.375,
           "rgb(158,202,225)"
          ],
          [
           0.5,
           "rgb(107,174,214)"
          ],
          [
           0.625,
           "rgb(66,146,198)"
          ],
          [
           0.75,
           "rgb(33,113,181)"
          ],
          [
           0.875,
           "rgb(8,81,156)"
          ],
          [
           1,
           "rgb(8,48,107)"
          ]
         ]
        },
        "geo": {
         "center": {},
         "domain": {
          "x": [
           0,
           1
          ],
          "y": [
           0,
           1
          ]
         },
         "scope": "usa"
        },
        "legend": {
         "tracegroupgap": 0
        },
        "template": {
         "data": {
          "bar": [
           {
            "error_x": {
             "color": "#2a3f5f"
            },
            "error_y": {
             "color": "#2a3f5f"
            },
            "marker": {
             "line": {
              "color": "#E5ECF6",
              "width": 0.5
             },
             "pattern": {
              "fillmode": "overlay",
              "size": 10,
              "solidity": 0.2
             }
            },
            "type": "bar"
           }
          ],
          "barpolar": [
           {
            "marker": {
             "line": {
              "color": "#E5ECF6",
              "width": 0.5
             },
             "pattern": {
              "fillmode": "overlay",
              "size": 10,
              "solidity": 0.2
             }
            },
            "type": "barpolar"
           }
          ],
          "carpet": [
           {
            "aaxis": {
             "endlinecolor": "#2a3f5f",
             "gridcolor": "white",
             "linecolor": "white",
             "minorgridcolor": "white",
             "startlinecolor": "#2a3f5f"
            },
            "baxis": {
             "endlinecolor": "#2a3f5f",
             "gridcolor": "white",
             "linecolor": "white",
             "minorgridcolor": "white",
             "startlinecolor": "#2a3f5f"
            },
            "type": "carpet"
           }
          ],
          "choropleth": [
           {
            "colorbar": {
             "outlinewidth": 0,
             "ticks": ""
            },
            "type": "choropleth"
           }
          ],
          "contour": [
           {
            "colorbar": {
             "outlinewidth": 0,
             "ticks": ""
            },
            "colorscale": [
             [
              0,
              "#0d0887"
             ],
             [
              0.1111111111111111,
              "#46039f"
             ],
             [
              0.2222222222222222,
              "#7201a8"
             ],
             [
              0.3333333333333333,
              "#9c179e"
             ],
             [
              0.4444444444444444,
              "#bd3786"
             ],
             [
              0.5555555555555556,
              "#d8576b"
             ],
             [
              0.6666666666666666,
              "#ed7953"
             ],
             [
              0.7777777777777778,
              "#fb9f3a"
             ],
             [
              0.8888888888888888,
              "#fdca26"
             ],
             [
              1,
              "#f0f921"
             ]
            ],
            "type": "contour"
           }
          ],
          "contourcarpet": [
           {
            "colorbar": {
             "outlinewidth": 0,
             "ticks": ""
            },
            "type": "contourcarpet"
           }
          ],
          "heatmap": [
           {
            "colorbar": {
             "outlinewidth": 0,
             "ticks": ""
            },
            "colorscale": [
             [
              0,
              "#0d0887"
             ],
             [
              0.1111111111111111,
              "#46039f"
             ],
             [
              0.2222222222222222,
              "#7201a8"
             ],
             [
              0.3333333333333333,
              "#9c179e"
             ],
             [
              0.4444444444444444,
              "#bd3786"
             ],
             [
              0.5555555555555556,
              "#d8576b"
             ],
             [
              0.6666666666666666,
              "#ed7953"
             ],
             [
              0.7777777777777778,
              "#fb9f3a"
             ],
             [
              0.8888888888888888,
              "#fdca26"
             ],
             [
              1,
              "#f0f921"
             ]
            ],
            "type": "heatmap"
           }
          ],
          "heatmapgl": [
           {
            "colorbar": {
             "outlinewidth": 0,
             "ticks": ""
            },
            "colorscale": [
             [
              0,
              "#0d0887"
             ],
             [
              0.1111111111111111,
              "#46039f"
             ],
             [
              0.2222222222222222,
              "#7201a8"
             ],
             [
              0.3333333333333333,
              "#9c179e"
             ],
             [
              0.4444444444444444,
              "#bd3786"
             ],
             [
              0.5555555555555556,
              "#d8576b"
             ],
             [
              0.6666666666666666,
              "#ed7953"
             ],
             [
              0.7777777777777778,
              "#fb9f3a"
             ],
             [
              0.8888888888888888,
              "#fdca26"
             ],
             [
              1,
              "#f0f921"
             ]
            ],
            "type": "heatmapgl"
           }
          ],
          "histogram": [
           {
            "marker": {
             "pattern": {
              "fillmode": "overlay",
              "size": 10,
              "solidity": 0.2
             }
            },
            "type": "histogram"
           }
          ],
          "histogram2d": [
           {
            "colorbar": {
             "outlinewidth": 0,
             "ticks": ""
            },
            "colorscale": [
             [
              0,
              "#0d0887"
             ],
             [
              0.1111111111111111,
              "#46039f"
             ],
             [
              0.2222222222222222,
              "#7201a8"
             ],
             [
              0.3333333333333333,
              "#9c179e"
             ],
             [
              0.4444444444444444,
              "#bd3786"
             ],
             [
              0.5555555555555556,
              "#d8576b"
             ],
             [
              0.6666666666666666,
              "#ed7953"
             ],
             [
              0.7777777777777778,
              "#fb9f3a"
             ],
             [
              0.8888888888888888,
              "#fdca26"
             ],
             [
              1,
              "#f0f921"
             ]
            ],
            "type": "histogram2d"
           }
          ],
          "histogram2dcontour": [
           {
            "colorbar": {
             "outlinewidth": 0,
             "ticks": ""
            },
            "colorscale": [
             [
              0,
              "#0d0887"
             ],
             [
              0.1111111111111111,
              "#46039f"
             ],
             [
              0.2222222222222222,
              "#7201a8"
             ],
             [
              0.3333333333333333,
              "#9c179e"
             ],
             [
              0.4444444444444444,
              "#bd3786"
             ],
             [
              0.5555555555555556,
              "#d8576b"
             ],
             [
              0.6666666666666666,
              "#ed7953"
             ],
             [
              0.7777777777777778,
              "#fb9f3a"
             ],
             [
              0.8888888888888888,
              "#fdca26"
             ],
             [
              1,
              "#f0f921"
             ]
            ],
            "type": "histogram2dcontour"
           }
          ],
          "mesh3d": [
           {
            "colorbar": {
             "outlinewidth": 0,
             "ticks": ""
            },
            "type": "mesh3d"
           }
          ],
          "parcoords": [
           {
            "line": {
             "colorbar": {
              "outlinewidth": 0,
              "ticks": ""
             }
            },
            "type": "parcoords"
           }
          ],
          "pie": [
           {
            "automargin": true,
            "type": "pie"
           }
          ],
          "scatter": [
           {
            "fillpattern": {
             "fillmode": "overlay",
             "size": 10,
             "solidity": 0.2
            },
            "type": "scatter"
           }
          ],
          "scatter3d": [
           {
            "line": {
             "colorbar": {
              "outlinewidth": 0,
              "ticks": ""
             }
            },
            "marker": {
             "colorbar": {
              "outlinewidth": 0,
              "ticks": ""
             }
            },
            "type": "scatter3d"
           }
          ],
          "scattercarpet": [
           {
            "marker": {
             "colorbar": {
              "outlinewidth": 0,
              "ticks": ""
             }
            },
            "type": "scattercarpet"
           }
          ],
          "scattergeo": [
           {
            "marker": {
             "colorbar": {
              "outlinewidth": 0,
              "ticks": ""
             }
            },
            "type": "scattergeo"
           }
          ],
          "scattergl": [
           {
            "marker": {
             "colorbar": {
              "outlinewidth": 0,
              "ticks": ""
             }
            },
            "type": "scattergl"
           }
          ],
          "scattermapbox": [
           {
            "marker": {
             "colorbar": {
              "outlinewidth": 0,
              "ticks": ""
             }
            },
            "type": "scattermapbox"
           }
          ],
          "scatterpolar": [
           {
            "marker": {
             "colorbar": {
              "outlinewidth": 0,
              "ticks": ""
             }
            },
            "type": "scatterpolar"
           }
          ],
          "scatterpolargl": [
           {
            "marker": {
             "colorbar": {
              "outlinewidth": 0,
              "ticks": ""
             }
            },
            "type": "scatterpolargl"
           }
          ],
          "scatterternary": [
           {
            "marker": {
             "colorbar": {
              "outlinewidth": 0,
              "ticks": ""
             }
            },
            "type": "scatterternary"
           }
          ],
          "surface": [
           {
            "colorbar": {
             "outlinewidth": 0,
             "ticks": ""
            },
            "colorscale": [
             [
              0,
              "#0d0887"
             ],
             [
              0.1111111111111111,
              "#46039f"
             ],
             [
              0.2222222222222222,
              "#7201a8"
             ],
             [
              0.3333333333333333,
              "#9c179e"
             ],
             [
              0.4444444444444444,
              "#bd3786"
             ],
             [
              0.5555555555555556,
              "#d8576b"
             ],
             [
              0.6666666666666666,
              "#ed7953"
             ],
             [
              0.7777777777777778,
              "#fb9f3a"
             ],
             [
              0.8888888888888888,
              "#fdca26"
             ],
             [
              1,
              "#f0f921"
             ]
            ],
            "type": "surface"
           }
          ],
          "table": [
           {
            "cells": {
             "fill": {
              "color": "#EBF0F8"
             },
             "line": {
              "color": "white"
             }
            },
            "header": {
             "fill": {
              "color": "#C8D4E3"
             },
             "line": {
              "color": "white"
             }
            },
            "type": "table"
           }
          ]
         },
         "layout": {
          "annotationdefaults": {
           "arrowcolor": "#2a3f5f",
           "arrowhead": 0,
           "arrowwidth": 1
          },
          "autotypenumbers": "strict",
          "coloraxis": {
           "colorbar": {
            "outlinewidth": 0,
            "ticks": ""
           }
          },
          "colorscale": {
           "diverging": [
            [
             0,
             "#8e0152"
            ],
            [
             0.1,
             "#c51b7d"
            ],
            [
             0.2,
             "#de77ae"
            ],
            [
             0.3,
             "#f1b6da"
            ],
            [
             0.4,
             "#fde0ef"
            ],
            [
             0.5,
             "#f7f7f7"
            ],
            [
             0.6,
             "#e6f5d0"
            ],
            [
             0.7,
             "#b8e186"
            ],
            [
             0.8,
             "#7fbc41"
            ],
            [
             0.9,
             "#4d9221"
            ],
            [
             1,
             "#276419"
            ]
           ],
           "sequential": [
            [
             0,
             "#0d0887"
            ],
            [
             0.1111111111111111,
             "#46039f"
            ],
            [
             0.2222222222222222,
             "#7201a8"
            ],
            [
             0.3333333333333333,
             "#9c179e"
            ],
            [
             0.4444444444444444,
             "#bd3786"
            ],
            [
             0.5555555555555556,
             "#d8576b"
            ],
            [
             0.6666666666666666,
             "#ed7953"
            ],
            [
             0.7777777777777778,
             "#fb9f3a"
            ],
            [
             0.8888888888888888,
             "#fdca26"
            ],
            [
             1,
             "#f0f921"
            ]
           ],
           "sequentialminus": [
            [
             0,
             "#0d0887"
            ],
            [
             0.1111111111111111,
             "#46039f"
            ],
            [
             0.2222222222222222,
             "#7201a8"
            ],
            [
             0.3333333333333333,
             "#9c179e"
            ],
            [
             0.4444444444444444,
             "#bd3786"
            ],
            [
             0.5555555555555556,
             "#d8576b"
            ],
            [
             0.6666666666666666,
             "#ed7953"
            ],
            [
             0.7777777777777778,
             "#fb9f3a"
            ],
            [
             0.8888888888888888,
             "#fdca26"
            ],
            [
             1,
             "#f0f921"
            ]
           ]
          },
          "colorway": [
           "#636efa",
           "#EF553B",
           "#00cc96",
           "#ab63fa",
           "#FFA15A",
           "#19d3f3",
           "#FF6692",
           "#B6E880",
           "#FF97FF",
           "#FECB52"
          ],
          "font": {
           "color": "#2a3f5f"
          },
          "geo": {
           "bgcolor": "white",
           "lakecolor": "white",
           "landcolor": "#E5ECF6",
           "showlakes": true,
           "showland": true,
           "subunitcolor": "white"
          },
          "hoverlabel": {
           "align": "left"
          },
          "hovermode": "closest",
          "mapbox": {
           "style": "light"
          },
          "paper_bgcolor": "white",
          "plot_bgcolor": "#E5ECF6",
          "polar": {
           "angularaxis": {
            "gridcolor": "white",
            "linecolor": "white",
            "ticks": ""
           },
           "bgcolor": "#E5ECF6",
           "radialaxis": {
            "gridcolor": "white",
            "linecolor": "white",
            "ticks": ""
           }
          },
          "scene": {
           "xaxis": {
            "backgroundcolor": "#E5ECF6",
            "gridcolor": "white",
            "gridwidth": 2,
            "linecolor": "white",
            "showbackground": true,
            "ticks": "",
            "zerolinecolor": "white"
           },
           "yaxis": {
            "backgroundcolor": "#E5ECF6",
            "gridcolor": "white",
            "gridwidth": 2,
            "linecolor": "white",
            "showbackground": true,
            "ticks": "",
            "zerolinecolor": "white"
           },
           "zaxis": {
            "backgroundcolor": "#E5ECF6",
            "gridcolor": "white",
            "gridwidth": 2,
            "linecolor": "white",
            "showbackground": true,
            "ticks": "",
            "zerolinecolor": "white"
           }
          },
          "shapedefaults": {
           "line": {
            "color": "#2a3f5f"
           }
          },
          "ternary": {
           "aaxis": {
            "gridcolor": "white",
            "linecolor": "white",
            "ticks": ""
           },
           "baxis": {
            "gridcolor": "white",
            "linecolor": "white",
            "ticks": ""
           },
           "bgcolor": "#E5ECF6",
           "caxis": {
            "gridcolor": "white",
            "linecolor": "white",
            "ticks": ""
           }
          },
          "title": {
           "x": 0.05
          },
          "xaxis": {
           "automargin": true,
           "gridcolor": "white",
           "linecolor": "white",
           "ticks": "",
           "title": {
            "standoff": 15
           },
           "zerolinecolor": "white",
           "zerolinewidth": 2
          },
          "yaxis": {
           "automargin": true,
           "gridcolor": "white",
           "linecolor": "white",
           "ticks": "",
           "title": {
            "standoff": 15
           },
           "zerolinecolor": "white",
           "zerolinewidth": 2
          }
         }
        },
        "title": {
         "text": "Average High School Graduation Rates by State"
        }
       }
      },
      "text/html": [
       "<div>                            <div id=\"21b6773e-ebf3-4442-8e76-9a4147fc4a1f\" class=\"plotly-graph-div\" style=\"height:525px; width:100%;\"></div>            <script type=\"text/javascript\">                require([\"plotly\"], function(Plotly) {                    window.PLOTLYENV=window.PLOTLYENV || {};                                    if (document.getElementById(\"21b6773e-ebf3-4442-8e76-9a4147fc4a1f\")) {                    Plotly.newPlot(                        \"21b6773e-ebf3-4442-8e76-9a4147fc4a1f\",                        [{\"coloraxis\":\"coloraxis\",\"geo\":\"geo\",\"hovertemplate\":\"<b>%{hovertext}</b><br><br>state_ab=%{location}<br>hs_degree=%{z}<extra></extra>\",\"hovertext\":[\"AK\",\"AL\",\"AR\",\"AZ\",\"CA\",\"CO\",\"CT\",\"DC\",\"DE\",\"FL\",\"GA\",\"HI\",\"IA\",\"ID\",\"IL\",\"IN\",\"KS\",\"KY\",\"LA\",\"MA\",\"MD\",\"ME\",\"MI\",\"MN\",\"MO\",\"MS\",\"MT\",\"NC\",\"ND\",\"NE\",\"NH\",\"NJ\",\"NM\",\"NV\",\"NY\",\"OH\",\"OK\",\"OR\",\"PA\",\"PR\",\"RI\",\"SC\",\"SD\",\"TN\",\"TX\",\"UT\",\"VA\",\"VT\",\"WA\",\"WI\",\"WV\",\"WY\"],\"locationmode\":\"USA-states\",\"locations\":[\"AK\",\"AL\",\"AR\",\"AZ\",\"CA\",\"CO\",\"CT\",\"DC\",\"DE\",\"FL\",\"GA\",\"HI\",\"IA\",\"ID\",\"IL\",\"IN\",\"KS\",\"KY\",\"LA\",\"MA\",\"MD\",\"ME\",\"MI\",\"MN\",\"MO\",\"MS\",\"MT\",\"NC\",\"ND\",\"NE\",\"NH\",\"NJ\",\"NM\",\"NV\",\"NY\",\"OH\",\"OK\",\"OR\",\"PA\",\"PR\",\"RI\",\"SC\",\"SD\",\"TN\",\"TX\",\"UT\",\"VA\",\"VT\",\"WA\",\"WI\",\"WV\",\"WY\"],\"name\":\"\",\"z\":[0.9155357281553398,0.8269476112026359,0.8382691853932585,0.8504501293661061,0.8125920469135802,0.9076407620528771,0.8994218620689656,0.8857440860215055,0.8762176851851853,0.8646906666666667,0.8427397328244275,0.9157532450331126,0.9061140579710144,0.8893790540540539,0.8664268427753025,0.8631340557667935,0.8860582201405152,0.8305361330935253,0.8223099831649832,0.8883311920529802,0.8895247010869566,0.9118655789473684,0.8842042027972028,0.9170564306358382,0.8755260027855153,0.8102432853025937,0.922446178343949,0.8536057843996494,0.9053962962962963,0.9041788847583643,0.9158367948717949,0.8812217497456766,0.8387606315789474,0.8449355976676385,0.8555457912317328,0.8800838984168866,0.8555491881918819,0.8974575717439293,0.8884756562683932,0.7228814565217391,0.8679191935483871,0.8443979454545455,0.9047695238095239,0.8485022924901185,0.8050658799249532,0.9100265203761755,0.8804303285420945,0.9132761290322581,0.8964331618569636,0.8961735090152566,0.85403,0.9219599999999999],\"type\":\"choropleth\"}],                        {\"template\":{\"data\":{\"histogram2dcontour\":[{\"type\":\"histogram2dcontour\",\"colorbar\":{\"outlinewidth\":0,\"ticks\":\"\"},\"colorscale\":[[0.0,\"#0d0887\"],[0.1111111111111111,\"#46039f\"],[0.2222222222222222,\"#7201a8\"],[0.3333333333333333,\"#9c179e\"],[0.4444444444444444,\"#bd3786\"],[0.5555555555555556,\"#d8576b\"],[0.6666666666666666,\"#ed7953\"],[0.7777777777777778,\"#fb9f3a\"],[0.8888888888888888,\"#fdca26\"],[1.0,\"#f0f921\"]]}],\"choropleth\":[{\"type\":\"choropleth\",\"colorbar\":{\"outlinewidth\":0,\"ticks\":\"\"}}],\"histogram2d\":[{\"type\":\"histogram2d\",\"colorbar\":{\"outlinewidth\":0,\"ticks\":\"\"},\"colorscale\":[[0.0,\"#0d0887\"],[0.1111111111111111,\"#46039f\"],[0.2222222222222222,\"#7201a8\"],[0.3333333333333333,\"#9c179e\"],[0.4444444444444444,\"#bd3786\"],[0.5555555555555556,\"#d8576b\"],[0.6666666666666666,\"#ed7953\"],[0.7777777777777778,\"#fb9f3a\"],[0.8888888888888888,\"#fdca26\"],[1.0,\"#f0f921\"]]}],\"heatmap\":[{\"type\":\"heatmap\",\"colorbar\":{\"outlinewidth\":0,\"ticks\":\"\"},\"colorscale\":[[0.0,\"#0d0887\"],[0.1111111111111111,\"#46039f\"],[0.2222222222222222,\"#7201a8\"],[0.3333333333333333,\"#9c179e\"],[0.4444444444444444,\"#bd3786\"],[0.5555555555555556,\"#d8576b\"],[0.6666666666666666,\"#ed7953\"],[0.7777777777777778,\"#fb9f3a\"],[0.8888888888888888,\"#fdca26\"],[1.0,\"#f0f921\"]]}],\"heatmapgl\":[{\"type\":\"heatmapgl\",\"colorbar\":{\"outlinewidth\":0,\"ticks\":\"\"},\"colorscale\":[[0.0,\"#0d0887\"],[0.1111111111111111,\"#46039f\"],[0.2222222222222222,\"#7201a8\"],[0.3333333333333333,\"#9c179e\"],[0.4444444444444444,\"#bd3786\"],[0.5555555555555556,\"#d8576b\"],[0.6666666666666666,\"#ed7953\"],[0.7777777777777778,\"#fb9f3a\"],[0.8888888888888888,\"#fdca26\"],[1.0,\"#f0f921\"]]}],\"contourcarpet\":[{\"type\":\"contourcarpet\",\"colorbar\":{\"outlinewidth\":0,\"ticks\":\"\"}}],\"contour\":[{\"type\":\"contour\",\"colorbar\":{\"outlinewidth\":0,\"ticks\":\"\"},\"colorscale\":[[0.0,\"#0d0887\"],[0.1111111111111111,\"#46039f\"],[0.2222222222222222,\"#7201a8\"],[0.3333333333333333,\"#9c179e\"],[0.4444444444444444,\"#bd3786\"],[0.5555555555555556,\"#d8576b\"],[0.6666666666666666,\"#ed7953\"],[0.7777777777777778,\"#fb9f3a\"],[0.8888888888888888,\"#fdca26\"],[1.0,\"#f0f921\"]]}],\"surface\":[{\"type\":\"surface\",\"colorbar\":{\"outlinewidth\":0,\"ticks\":\"\"},\"colorscale\":[[0.0,\"#0d0887\"],[0.1111111111111111,\"#46039f\"],[0.2222222222222222,\"#7201a8\"],[0.3333333333333333,\"#9c179e\"],[0.4444444444444444,\"#bd3786\"],[0.5555555555555556,\"#d8576b\"],[0.6666666666666666,\"#ed7953\"],[0.7777777777777778,\"#fb9f3a\"],[0.8888888888888888,\"#fdca26\"],[1.0,\"#f0f921\"]]}],\"mesh3d\":[{\"type\":\"mesh3d\",\"colorbar\":{\"outlinewidth\":0,\"ticks\":\"\"}}],\"scatter\":[{\"fillpattern\":{\"fillmode\":\"overlay\",\"size\":10,\"solidity\":0.2},\"type\":\"scatter\"}],\"parcoords\":[{\"type\":\"parcoords\",\"line\":{\"colorbar\":{\"outlinewidth\":0,\"ticks\":\"\"}}}],\"scatterpolargl\":[{\"type\":\"scatterpolargl\",\"marker\":{\"colorbar\":{\"outlinewidth\":0,\"ticks\":\"\"}}}],\"bar\":[{\"error_x\":{\"color\":\"#2a3f5f\"},\"error_y\":{\"color\":\"#2a3f5f\"},\"marker\":{\"line\":{\"color\":\"#E5ECF6\",\"width\":0.5},\"pattern\":{\"fillmode\":\"overlay\",\"size\":10,\"solidity\":0.2}},\"type\":\"bar\"}],\"scattergeo\":[{\"type\":\"scattergeo\",\"marker\":{\"colorbar\":{\"outlinewidth\":0,\"ticks\":\"\"}}}],\"scatterpolar\":[{\"type\":\"scatterpolar\",\"marker\":{\"colorbar\":{\"outlinewidth\":0,\"ticks\":\"\"}}}],\"histogram\":[{\"marker\":{\"pattern\":{\"fillmode\":\"overlay\",\"size\":10,\"solidity\":0.2}},\"type\":\"histogram\"}],\"scattergl\":[{\"type\":\"scattergl\",\"marker\":{\"colorbar\":{\"outlinewidth\":0,\"ticks\":\"\"}}}],\"scatter3d\":[{\"type\":\"scatter3d\",\"line\":{\"colorbar\":{\"outlinewidth\":0,\"ticks\":\"\"}},\"marker\":{\"colorbar\":{\"outlinewidth\":0,\"ticks\":\"\"}}}],\"scattermapbox\":[{\"type\":\"scattermapbox\",\"marker\":{\"colorbar\":{\"outlinewidth\":0,\"ticks\":\"\"}}}],\"scatterternary\":[{\"type\":\"scatterternary\",\"marker\":{\"colorbar\":{\"outlinewidth\":0,\"ticks\":\"\"}}}],\"scattercarpet\":[{\"type\":\"scattercarpet\",\"marker\":{\"colorbar\":{\"outlinewidth\":0,\"ticks\":\"\"}}}],\"carpet\":[{\"aaxis\":{\"endlinecolor\":\"#2a3f5f\",\"gridcolor\":\"white\",\"linecolor\":\"white\",\"minorgridcolor\":\"white\",\"startlinecolor\":\"#2a3f5f\"},\"baxis\":{\"endlinecolor\":\"#2a3f5f\",\"gridcolor\":\"white\",\"linecolor\":\"white\",\"minorgridcolor\":\"white\",\"startlinecolor\":\"#2a3f5f\"},\"type\":\"carpet\"}],\"table\":[{\"cells\":{\"fill\":{\"color\":\"#EBF0F8\"},\"line\":{\"color\":\"white\"}},\"header\":{\"fill\":{\"color\":\"#C8D4E3\"},\"line\":{\"color\":\"white\"}},\"type\":\"table\"}],\"barpolar\":[{\"marker\":{\"line\":{\"color\":\"#E5ECF6\",\"width\":0.5},\"pattern\":{\"fillmode\":\"overlay\",\"size\":10,\"solidity\":0.2}},\"type\":\"barpolar\"}],\"pie\":[{\"automargin\":true,\"type\":\"pie\"}]},\"layout\":{\"autotypenumbers\":\"strict\",\"colorway\":[\"#636efa\",\"#EF553B\",\"#00cc96\",\"#ab63fa\",\"#FFA15A\",\"#19d3f3\",\"#FF6692\",\"#B6E880\",\"#FF97FF\",\"#FECB52\"],\"font\":{\"color\":\"#2a3f5f\"},\"hovermode\":\"closest\",\"hoverlabel\":{\"align\":\"left\"},\"paper_bgcolor\":\"white\",\"plot_bgcolor\":\"#E5ECF6\",\"polar\":{\"bgcolor\":\"#E5ECF6\",\"angularaxis\":{\"gridcolor\":\"white\",\"linecolor\":\"white\",\"ticks\":\"\"},\"radialaxis\":{\"gridcolor\":\"white\",\"linecolor\":\"white\",\"ticks\":\"\"}},\"ternary\":{\"bgcolor\":\"#E5ECF6\",\"aaxis\":{\"gridcolor\":\"white\",\"linecolor\":\"white\",\"ticks\":\"\"},\"baxis\":{\"gridcolor\":\"white\",\"linecolor\":\"white\",\"ticks\":\"\"},\"caxis\":{\"gridcolor\":\"white\",\"linecolor\":\"white\",\"ticks\":\"\"}},\"coloraxis\":{\"colorbar\":{\"outlinewidth\":0,\"ticks\":\"\"}},\"colorscale\":{\"sequential\":[[0.0,\"#0d0887\"],[0.1111111111111111,\"#46039f\"],[0.2222222222222222,\"#7201a8\"],[0.3333333333333333,\"#9c179e\"],[0.4444444444444444,\"#bd3786\"],[0.5555555555555556,\"#d8576b\"],[0.6666666666666666,\"#ed7953\"],[0.7777777777777778,\"#fb9f3a\"],[0.8888888888888888,\"#fdca26\"],[1.0,\"#f0f921\"]],\"sequentialminus\":[[0.0,\"#0d0887\"],[0.1111111111111111,\"#46039f\"],[0.2222222222222222,\"#7201a8\"],[0.3333333333333333,\"#9c179e\"],[0.4444444444444444,\"#bd3786\"],[0.5555555555555556,\"#d8576b\"],[0.6666666666666666,\"#ed7953\"],[0.7777777777777778,\"#fb9f3a\"],[0.8888888888888888,\"#fdca26\"],[1.0,\"#f0f921\"]],\"diverging\":[[0,\"#8e0152\"],[0.1,\"#c51b7d\"],[0.2,\"#de77ae\"],[0.3,\"#f1b6da\"],[0.4,\"#fde0ef\"],[0.5,\"#f7f7f7\"],[0.6,\"#e6f5d0\"],[0.7,\"#b8e186\"],[0.8,\"#7fbc41\"],[0.9,\"#4d9221\"],[1,\"#276419\"]]},\"xaxis\":{\"gridcolor\":\"white\",\"linecolor\":\"white\",\"ticks\":\"\",\"title\":{\"standoff\":15},\"zerolinecolor\":\"white\",\"automargin\":true,\"zerolinewidth\":2},\"yaxis\":{\"gridcolor\":\"white\",\"linecolor\":\"white\",\"ticks\":\"\",\"title\":{\"standoff\":15},\"zerolinecolor\":\"white\",\"automargin\":true,\"zerolinewidth\":2},\"scene\":{\"xaxis\":{\"backgroundcolor\":\"#E5ECF6\",\"gridcolor\":\"white\",\"linecolor\":\"white\",\"showbackground\":true,\"ticks\":\"\",\"zerolinecolor\":\"white\",\"gridwidth\":2},\"yaxis\":{\"backgroundcolor\":\"#E5ECF6\",\"gridcolor\":\"white\",\"linecolor\":\"white\",\"showbackground\":true,\"ticks\":\"\",\"zerolinecolor\":\"white\",\"gridwidth\":2},\"zaxis\":{\"backgroundcolor\":\"#E5ECF6\",\"gridcolor\":\"white\",\"linecolor\":\"white\",\"showbackground\":true,\"ticks\":\"\",\"zerolinecolor\":\"white\",\"gridwidth\":2}},\"shapedefaults\":{\"line\":{\"color\":\"#2a3f5f\"}},\"annotationdefaults\":{\"arrowcolor\":\"#2a3f5f\",\"arrowhead\":0,\"arrowwidth\":1},\"geo\":{\"bgcolor\":\"white\",\"landcolor\":\"#E5ECF6\",\"subunitcolor\":\"white\",\"showland\":true,\"showlakes\":true,\"lakecolor\":\"white\"},\"title\":{\"x\":0.05},\"mapbox\":{\"style\":\"light\"}}},\"geo\":{\"domain\":{\"x\":[0.0,1.0],\"y\":[0.0,1.0]},\"center\":{},\"scope\":\"usa\"},\"coloraxis\":{\"colorbar\":{\"title\":{\"text\":\"hs_degree\"}},\"colorscale\":[[0.0,\"rgb(247,251,255)\"],[0.125,\"rgb(222,235,247)\"],[0.25,\"rgb(198,219,239)\"],[0.375,\"rgb(158,202,225)\"],[0.5,\"rgb(107,174,214)\"],[0.625,\"rgb(66,146,198)\"],[0.75,\"rgb(33,113,181)\"],[0.875,\"rgb(8,81,156)\"],[1.0,\"rgb(8,48,107)\"]]},\"legend\":{\"tracegroupgap\":0},\"title\":{\"text\":\"Average High School Graduation Rates by State\"}},                        {\"responsive\": true}                    ).then(function(){\n",
       "                            \n",
       "var gd = document.getElementById('21b6773e-ebf3-4442-8e76-9a4147fc4a1f');\n",
       "var x = new MutationObserver(function (mutations, observer) {{\n",
       "        var display = window.getComputedStyle(gd).display;\n",
       "        if (!display || display === 'none') {{\n",
       "            console.log([gd, 'removed!']);\n",
       "            Plotly.purge(gd);\n",
       "            observer.disconnect();\n",
       "        }}\n",
       "}});\n",
       "\n",
       "// Listen for the removal of the full notebook cells\n",
       "var notebookContainer = gd.closest('#notebook-container');\n",
       "if (notebookContainer) {{\n",
       "    x.observe(notebookContainer, {childList: true});\n",
       "}}\n",
       "\n",
       "// Listen for the clearing of the current output cell\n",
       "var outputEl = gd.closest('.output');\n",
       "if (outputEl) {{\n",
       "    x.observe(outputEl, {childList: true});\n",
       "}}\n",
       "\n",
       "                        })                };                });            </script>        </div>"
      ]
     },
     "metadata": {},
     "output_type": "display_data"
    }
   ],
   "source": [
    "import plotly.express as px\n",
    "# computes average graduation rates by state\n",
    "avg_grad_rates = df.groupby('state_ab')['hs_degree'].mean().reset_index()\n",
    "\n",
    "# visualizes on a map using plotly\n",
    "fig = px.choropleth(avg_grad_rates,\n",
    "                    locations='state_ab',\n",
    "                    locationmode='USA-states',\n",
    "                    color='hs_degree',\n",
    "                    hover_name='state_ab',\n",
    "                    color_continuous_scale='blues',\n",
    "                    title='Average High School Graduation Rates by State')\n",
    "fig.update_layout(\n",
    "    geo_scope='usa',  # limit map scope to USA\n",
    ")\n",
    "fig.show()"
   ]
  }
 ],
 "metadata": {
  "kernelspec": {
   "display_name": "Python 3 (ipykernel)",
   "language": "python",
   "name": "python3"
  },
  "language_info": {
   "codemirror_mode": {
    "name": "ipython",
    "version": 3
   },
   "file_extension": ".py",
   "mimetype": "text/x-python",
   "name": "python",
   "nbconvert_exporter": "python",
   "pygments_lexer": "ipython3",
   "version": "3.7.16"
  }
 },
 "nbformat": 4,
 "nbformat_minor": 5
}
